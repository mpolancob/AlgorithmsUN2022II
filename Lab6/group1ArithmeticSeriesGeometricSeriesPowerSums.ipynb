{
  "nbformat": 4,
  "nbformat_minor": 0,
  "metadata": {
    "colab": {
      "provenance": [],
      "include_colab_link": true
    },
    "kernelspec": {
      "name": "python3",
      "display_name": "Python 3"
    }
  },
  "cells": [
    {
      "cell_type": "markdown",
      "metadata": {
        "id": "view-in-github",
        "colab_type": "text"
      },
      "source": [
        "<a href=\"https://colab.research.google.com/github/mpolancob/AlgorithmsUN2022II/blob/main/Lab6/group1ArithmeticSeriesGeometricSeriesPowerSums.ipynb\" target=\"_parent\"><img src=\"https://colab.research.google.com/assets/colab-badge.svg\" alt=\"Open In Colab\"/></a>"
      ]
    },
    {
      "cell_type": "markdown",
      "metadata": {
        "id": "r4rXWI4gCN5B"
      },
      "source": [
        "# Arithmetic Series\n",
        "\n",
        "## Modified from Arithmetic Series -  [Wolfram MathWorld](https://mathworld.wolfram.com/ArithmeticSeries.html) - [wikipedia](https://en.wikipedia.org/wiki/Arithmetic_progression)\n",
        "\n",
        "\n",
        "An arithmetic sequence $\\{a_k\\}$ for $k=1, 2, ..., $ in which each term is computed from the previous one by adding (or subtracting) a constant $d$. \n",
        "\n",
        "\\begin{align*}\n",
        "a_1 & \\\\\n",
        "a_2 &\\ \\ =\\ \\ a_1 + d  \\\\\n",
        "a_3 &\\ \\ =\\ \\ a_2 + d \\ \\ =\\ \\ a_1 + 2d   \\\\\n",
        "a_4 &\\ \\ =\\ \\ a_3 + d \\ \\ =\\ \\ a_2 + 2d \\ \\ =\\ \\ a_1 + 3d  \\\\\n",
        "\\vdots\\\\\n",
        "a_k &\\ \\ =\\ \\ a_{(k-1)}+d \\ =\\  a_{(k-2)}+2d \\ =\\  \\ldots \\ =\\  \\ a_1+(k-1)d\n",
        "\\end{align*}\n",
        "\n",
        "Therefore, for $k>=1$,\n",
        "\n",
        "$$ a_k = a_1 + (k-1)d$$\n",
        "\n",
        "With $a_1$ and $d$ given.\n",
        "\n",
        "<br /> \n",
        "\n",
        "The sequence of the partial sum of the first $n$ terms of a sequence is called a series, in the case of an arithemetic sequence the series is called an arithmetic series.\n",
        "\n",
        "If  $a_1= 1$ and $d=1$ we have, the simplest arithmnetic sequence,  the natural numbers sequence $\\{a_k = k \\}$ for  $k=1, 2, ..., $  i.e. the seuqnece\n",
        "$$1, 2, ...,$$\n",
        "The  corresponding series is \n",
        "$$ \n",
        "S_n = 1 + 2+ \\ldots + (n-1)+ n = \\sum_{k=1}^n k\n",
        "$$\n",
        "can be calculated as a function of $n$.\n",
        "\n",
        "Assume that we allign one $S_{n-1}$ with a second  $S_{n-1}$ that have the terms adden reverse order and you add term to term, we have\n",
        "\\begin{array}{llclclclclc}\n",
        "  S_{n-1} &=& 1 &+& 2 &+& \\ldots &+& (n-2) &+& (n-1) \\\\\n",
        "  S_{n-1} &=& (n-1)  &+& (n-2)  &+& \\ldots   &+& 2   &+& 1 \\\\\n",
        "   \\hline \\\\\n",
        "   2S_{n-1} &=& n  &+& n  &+& \\ldots   &+& n   &+& n \\\\\n",
        "\\end{array}\n",
        "so\n",
        "$$  2S_{n-1} = (n-1)n $$\n",
        "then\n",
        "$$  S_{n-1} = \\frac{1}{2} (n-1)n$$\n",
        "therefore \n",
        "$$  S_{n} = \\frac{1}{2} n(n+1)$$\n",
        "\n",
        "\n",
        "\\begin{align*}\n",
        "S_n &= \\sum_{k=1}^n a_k\t\\\\\n",
        "    &= \\sum_{k=1}^n[a_1+(k-1)d]\t\t\\\\\n",
        "    &= na_1 + d \\sum_{k=1}^n(k-1)\t\\\\\n",
        "    &= na_1 + d \\sum_{k=0}^{n-1} k\t\\\\\n",
        "    &= na_1 + d \\sum_{k=1}^{n-1} k\t\\\\\n",
        "    &= na_1 +  \\frac{1}{2} d(n-1)n\\\\\n",
        "\\end{align*}\n",
        "so \n",
        "$$ S_n =  \\frac{1}{2} n[2 a_1 +d(n-1)].$$\n",
        "\n",
        "Note, however, that\n",
        "$$a_1+a_n=a_1+[a_1+d(n-1)]=2a_1+d(n-1),$$ \t\n",
        "so\n",
        "$$S_n = \\frac{1}{2}n(a_1+a_n),$$\n",
        "\n",
        "\n",
        "or $n$ times the arithmetic mean of the first and last terms! This is the trick Gauss used as a schoolboy to solve the problem of summing the integers from $1$ to $100$ given as busy-work by his teacher. While his classmates toiled away doing the addition longhand, Gauss wrote a single number, the correct answer\n",
        "\n",
        "$$\\frac{1}{2}(100)(1+100)=50·101=5050$$ \t\n",
        "on his slate (Burton 1989, pp. 80-81; Hoffman 1998, p. 207). When the answers were examined, Gauss's proved to be the only correct one.\n",
        "\n",
        "<br /> \n",
        "\n",
        "If  the sequence starts at index $0$, $\\{a_k\\}$ for $ k=0, 1, 2, ..., $ we have\n",
        "\n",
        "\\begin{align*}\n",
        "a_0 & \\\\\n",
        "a_1 &\\ \\ =\\ \\ a_0 + d  \\\\\n",
        "a_2 &\\ \\ =\\ \\ a_1 + d \\ \\ =\\ \\ a_0 + 2d   \\\\\n",
        "a_3 &\\ \\ =\\ \\ a_2 + d \\ \\ =\\ \\ a_1 + 2d \\ \\ =\\ \\ a_0 + 3d  \\\\\n",
        "\\vdots\\\\\n",
        "a_k &\\ \\ =\\ \\ a_{(k-1)}+d \\ =\\  a_{(k-2)}+2d \\ =\\  \\ldots \\ = \\  \\ a_1+(k-1)d \\ \\ =\\ \\ a_0+kd\n",
        "\\end{align*}\n",
        "\n",
        "<br /> \n",
        "for given   $a_0$ and $d$.\n",
        "\n",
        "In this case the sum of the terms between $0$ and $n$ of  the arithemnetic sequence  is then given by\n",
        "\\begin{align*}\n",
        "S_n &= \\sum_{k=0}^{n} a_k\t\\\\\n",
        "    &= \\sum_{k=0}^{n}[a_0+kd]\t\t\\\\\n",
        "    &= (n+1) a_0 + d \\sum_{k=0}^{n} k\t\\\\\n",
        "    &= (n+1) a_0 + d \\sum_{k=1}^{} k\t\\\\\n",
        "    &=(n+1) a_0+  \\frac{1}{2} dn(n+1) \\\\\n",
        "\\end{align*}\n",
        "so \n",
        "$$ S_n =  \\frac{1}{2} (n+1)[2 a_0 + dn].$$\n",
        "<br /> \n",
        "$$ S_n =  \\frac{1}{2} (n+1)[a_0+ a_n].$$\n",
        "\n",
        "\n"
      ]
    },
    {
      "cell_type": "markdown",
      "metadata": {
        "id": "GfBh-QHRcods"
      },
      "source": [
        "### Code\n",
        "####  The simplest arithmetic sequence and series\n",
        "\n",
        "The simplest arithmnetic sequence is \n",
        "\n",
        "\n",
        "$$a_n = 1, 2, ...,$$"
      ]
    },
    {
      "cell_type": "markdown",
      "metadata": {
        "id": "n36eWqEXiktl"
      },
      "source": [
        "The following code plots the first $n = 15$ terms of the simplest arithmnetic sequence \n",
        "$$\\{a_n = n\\} \\text{ for } n =1,2,\\ldots  $$\n",
        "i.e\n",
        "$$\\{a_n = n\\} =1,2,\\ldots $$\n",
        "adn the corresponding terms of the simplest arithmnetic series \n",
        "$$  S_n = 1 + 2+ \\ldots + (n-1)+ n = \\sum_{k=1}^n k=  \\frac{1}{2} n(n+1)$$\n"
      ]
    },
    {
      "cell_type": "markdown",
      "metadata": {
        "id": "_VyGiunIZknK"
      },
      "source": [
        "Plot"
      ]
    },
    {
      "cell_type": "code",
      "metadata": {
        "colab": {
          "base_uri": "https://localhost:8080/",
          "height": 283
        },
        "id": "gx3Q4uo-ONCi",
        "outputId": "ace8323e-31ff-4467-c720-739b33b2557b"
      },
      "source": [
        "import matplotlib.pyplot as plt\n",
        "\n",
        "n = 15\n",
        "S_n = 0\n",
        "Serie_S_n=[]\n",
        "Sequence_a_n =[]\n",
        "for i in range(1,n+1):\n",
        "  S_n = S_n + i\n",
        "  Serie_S_n.append(S_n)\n",
        "  Sequence_a_n.append(i)\n",
        " \n",
        "\n",
        "plt.plot(Serie_S_n, color='black',label='Serie_S_n')\n",
        "plt.plot(Sequence_a_n, color='red',label='Sequence_a_n')\n",
        "plt.legend()\n",
        "\n",
        "\n"
      ],
      "execution_count": null,
      "outputs": [
        {
          "output_type": "execute_result",
          "data": {
            "text/plain": [
              "<matplotlib.legend.Legend at 0x7effd5d0dd50>"
            ]
          },
          "metadata": {},
          "execution_count": 5
        },
        {
          "output_type": "display_data",
          "data": {
            "image/png": "[encoded data removed]",
            "text/plain": [
              "<Figure size 432x288 with 1 Axes>"
            ]
          },
          "metadata": {
            "needs_background": "light"
          }
        }
      ]
    },
    {
      "cell_type": "code",
      "metadata": {
        "colab": {
          "base_uri": "https://localhost:8080/"
        },
        "id": "o2es6b4cysQk",
        "outputId": "2d8875c7-e4c1-49cc-9b38-028475c5f19f"
      },
      "source": [
        "Sequence_a_n"
      ],
      "execution_count": null,
      "outputs": [
        {
          "output_type": "execute_result",
          "data": {
            "text/plain": [
              "[1, 2, 3, 4, 5, 6, 7, 8, 9, 10, 11, 12, 13, 14, 15]"
            ]
          },
          "metadata": {
            "tags": []
          },
          "execution_count": 12
        }
      ]
    },
    {
      "cell_type": "code",
      "metadata": {
        "colab": {
          "base_uri": "https://localhost:8080/"
        },
        "id": "T2VeBOBZ0ibg",
        "outputId": "daaf6544-5edd-4843-a485-505e1a06a3f7"
      },
      "source": [
        "Serie_S_n"
      ],
      "execution_count": null,
      "outputs": [
        {
          "output_type": "execute_result",
          "data": {
            "text/plain": [
              "[1, 3, 6, 10, 15, 21, 28, 36, 45, 55, 66, 78, 91, 105, 120]"
            ]
          },
          "metadata": {
            "tags": []
          },
          "execution_count": 14
        }
      ]
    },
    {
      "cell_type": "markdown",
      "metadata": {
        "id": "0ybfJdHxZGvW"
      },
      "source": [
        "The following code computes the  $n=10000000$  term of the airthmetic series\n",
        "$$  S_n = 1 + 2+ \\ldots + (n-1)+ n = \\sum_{k=1}^n =  \\frac{1}{2} n(n+1)$$"
      ]
    },
    {
      "cell_type": "code",
      "metadata": {
        "colab": {
          "base_uri": "https://localhost:8080/"
        },
        "id": "99xYHDQycnol",
        "outputId": "a21e2f92-385a-4cea-910f-7e32bafd11e4"
      },
      "source": [
        "n = 10000000\n",
        "S_n = 0\n",
        "for i in range(1,n+1):  # range(n+1) goes form 1 to n\n",
        "  S_n = S_n + i \n",
        "print(S_n)"
      ],
      "execution_count": null,
      "outputs": [
        {
          "output_type": "stream",
          "text": [
            "50000005000000\n"
          ],
          "name": "stdout"
        }
      ]
    },
    {
      "cell_type": "code",
      "metadata": {
        "colab": {
          "base_uri": "https://localhost:8080/"
        },
        "id": "RGCSuDGHeFwH",
        "outputId": "e1d60652-ce77-4933-a4dc-fa178257f349"
      },
      "source": [
        "(1/2)*n*(n+1)"
      ],
      "execution_count": null,
      "outputs": [
        {
          "output_type": "execute_result",
          "data": {
            "text/plain": [
              "50000005000000.0"
            ]
          },
          "metadata": {
            "tags": []
          },
          "execution_count": 8
        }
      ]
    },
    {
      "cell_type": "markdown",
      "metadata": {
        "id": "bg8zxAhcecpk"
      },
      "source": [
        "The following code computes the $n=10000000$ term of the airthmetic series \n",
        "$$ S_n  = \\sum_{k=1}^n a_k$$\n",
        "\n",
        "<br /> \n",
        "for the airthmetic sequence $a_k = 10 + 3 (k-1) $ for $k=1,2,\\ldots$\n",
        "\n",
        "<br /> \n",
        "$$ 10,13,16,19,21,\\ldots$$\n"
      ]
    },
    {
      "cell_type": "markdown",
      "metadata": {
        "id": "hg3ixQ3bZiVh"
      },
      "source": [
        "Plot"
      ]
    },
    {
      "cell_type": "code",
      "metadata": {
        "colab": {
          "base_uri": "https://localhost:8080/"
        },
        "id": "w8FP1XqSgnie",
        "outputId": "4a81915d-b3b6-4089-cb05-5a46b03ba87f"
      },
      "source": [
        "n = 10000000\n",
        "a = 10\n",
        "d = 3\n",
        "S_n = 0\n",
        "for i in range(1,n+1):  # range(n+19 goes form 1 to n\n",
        "  a_n = a + d * (i-1) \n",
        "  S_n = S_n + a_n\n",
        "print(S_n)"
      ],
      "execution_count": null,
      "outputs": [
        {
          "output_type": "stream",
          "text": [
            "150000085000000\n"
          ],
          "name": "stdout"
        }
      ]
    },
    {
      "cell_type": "code",
      "metadata": {
        "colab": {
          "base_uri": "https://localhost:8080/"
        },
        "id": "g_38RfB_hgg2",
        "outputId": "088f349a-3f72-4e5d-b977-30b61ddcbb25"
      },
      "source": [
        "n*(2*a +d*(n-1))/2"
      ],
      "execution_count": null,
      "outputs": [
        {
          "output_type": "execute_result",
          "data": {
            "text/plain": [
              "150000085000000.0"
            ]
          },
          "metadata": {
            "tags": []
          },
          "execution_count": 25
        }
      ]
    },
    {
      "cell_type": "code",
      "metadata": {
        "colab": {
          "base_uri": "https://localhost:8080/"
        },
        "id": "zS3qb_xE1u58",
        "outputId": "3a90e3cb-788b-49cc-db02-6b53b4d092d9"
      },
      "source": [
        "n*(a +a_n)/2"
      ],
      "execution_count": null,
      "outputs": [
        {
          "output_type": "execute_result",
          "data": {
            "text/plain": [
              "150000085000000.0"
            ]
          },
          "metadata": {
            "tags": []
          },
          "execution_count": 26
        }
      ]
    },
    {
      "cell_type": "code",
      "metadata": {
        "colab": {
          "base_uri": "https://localhost:8080/",
          "height": 285
        },
        "id": "7qesKez70zub",
        "outputId": "cd0c0a7a-936e-417d-8653-5aa6c817d4c1"
      },
      "source": [
        "import matplotlib.pyplot as plt\n",
        "\n",
        "n = 20\n",
        "a = 10\n",
        "d = 3\n",
        "S_n = 0\n",
        "Serie_S_n=[]\n",
        "Sequence_a_n =[]\n",
        "for i in range(1,n+1):  # range(n+19 goes form 1 to n\n",
        "  a_n = a + d * (i-1) \n",
        "  S_n = S_n + a_n\n",
        "  Serie_S_n.append(S_n)\n",
        "  Sequence_a_n.append(a_n)\n",
        "\n",
        "plt.plot(Serie_S_n, color='black',label='Serie_S_n')\n",
        "plt.plot(Sequence_a_n, color='red',label='Sequence_a_n')\n",
        "plt.legend()"
      ],
      "execution_count": null,
      "outputs": [
        {
          "output_type": "execute_result",
          "data": {
            "text/plain": [
              "<matplotlib.legend.Legend at 0x7f4135d81d10>"
            ]
          },
          "metadata": {
            "tags": []
          },
          "execution_count": 22
        },
        {
          "output_type": "display_data",
          "data": {
            "image/png": "[encoded data removed]",
            "text/plain": [
              "<Figure size 432x288 with 1 Axes>"
            ]
          },
          "metadata": {
            "tags": [],
            "needs_background": "light"
          }
        }
      ]
    },
    {
      "cell_type": "markdown",
      "metadata": {
        "id": "r9qzONSlZq2q"
      },
      "source": [
        "## Your own example of arithmetic series 1"
      ]
    },
    {
      "cell_type": "markdown",
      "source": [
        "# Product\n",
        "\n",
        "## Modified from Arithmetic Series - [wikipedia](https://en.wikipedia.org/wiki/Arithmetic_progression)\n",
        "\n",
        "\n",
        "The product of the members of a finite arithmetic progression with an initial element $a_1$, common differences $d$, and $n$ elements in total is determined in a closed expression\n",
        "\n",
        "$$ \n",
        "a_1 a_2 a_3 \\ldots a_n = a_1(a_1 + d)(a_1+2d) \\ldots + (a_1+(n-1)d) = \\prod_{k=0}^{n-1} (a_1+kd)=d^n \\frac{\\varGamma(\\frac{a_1}{d}+n)}{\\varGamma(\\frac{a_1}{d})}\n",
        "$$\n",
        "\n",
        "where $\\varGamma$ denotes the Gamma function. The formula is not valid when $a_1/d$ is negative or zero.\n",
        "\n",
        "This is a generalization from the fact that the product of the progression $1×2×\\ldots×n$ is given by the factorial $n!$ and the product $m×(m+1)×(m+2)×…×(n-2)×(n-1)×n$ for positive integers $m$ and $n$ is given by\n",
        "$$\n",
        "\\frac{n!}{(m-1)!}\n",
        "$$\n"
      ],
      "metadata": {
        "id": "6TGrguI1cEda"
      }
    },
    {
      "cell_type": "markdown",
      "source": [
        "The following code computes the  𝑛=5  term of the airthmetic series\n",
        "$$ \n",
        "a_1×a_2×a_3×\\ldots×a_n = n! = \\prod_{k=1}^{n} k\n",
        "$$"
      ],
      "metadata": {
        "id": "0AgIvrSkhUWk"
      }
    },
    {
      "cell_type": "code",
      "metadata": {
        "id": "SrJ_dPxS0pwP",
        "colab": {
          "base_uri": "https://localhost:8080/",
          "height": 283
        },
        "outputId": "bb9e73e1-4760-46ca-b50a-ed5e494d2cd9"
      },
      "source": [
        "import matplotlib.pyplot as plt\n",
        "\n",
        "n = 5\n",
        "P_n = 1\n",
        "Serie_P_n=[]\n",
        "Sequence_a_n =[]\n",
        "for i in range(1,n+1):\n",
        "  P_n = P_n * i\n",
        "  Serie_P_n.append(P_n)\n",
        "  Sequence_a_n.append(i)\n",
        " \n",
        "\n",
        "plt.plot(Serie_P_n, color='black',label='Serie_P_n')\n",
        "plt.plot(Sequence_a_n, color='red',label='Sequence_a_n')\n",
        "plt.legend()"
      ],
      "execution_count": 9,
      "outputs": [
        {
          "output_type": "execute_result",
          "data": {
            "text/plain": [
              "<matplotlib.legend.Legend at 0x7f7410046c90>"
            ]
          },
          "metadata": {},
          "execution_count": 9
        },
        {
          "output_type": "display_data",
          "data": {
            "text/plain": [
              "<Figure size 432x288 with 1 Axes>"
            ],
            "image/png": "[encoded data removed]"
          },
          "metadata": {
            "needs_background": "light"
          }
        }
      ]
    },
    {
      "cell_type": "code",
      "source": [
        "print(P_n)"
      ],
      "metadata": {
        "colab": {
          "base_uri": "https://localhost:8080/"
        },
        "id": "QHXsm6OFjK0Y",
        "outputId": "bc0466f8-0b1e-4a90-e16b-25a97abecc8c"
      },
      "execution_count": 14,
      "outputs": [
        {
          "output_type": "stream",
          "name": "stdout",
          "text": [
            "120\n"
          ]
        }
      ]
    },
    {
      "cell_type": "code",
      "source": [
        "import math\n",
        "print(math.factorial(n))"
      ],
      "metadata": {
        "colab": {
          "base_uri": "https://localhost:8080/"
        },
        "id": "hQ9VqGhKkAcn",
        "outputId": "39e3a714-ae7a-4190-b716-f148735e03c2"
      },
      "execution_count": 13,
      "outputs": [
        {
          "output_type": "stream",
          "name": "stdout",
          "text": [
            "120\n"
          ]
        }
      ]
    },
    {
      "cell_type": "code",
      "source": [
        "Serie_P_n"
      ],
      "metadata": {
        "colab": {
          "base_uri": "https://localhost:8080/"
        },
        "id": "qIh45GQukTYh",
        "outputId": "12801dd3-2142-4eb4-b667-f86bd6e74122"
      },
      "execution_count": 15,
      "outputs": [
        {
          "output_type": "execute_result",
          "data": {
            "text/plain": [
              "[1, 2, 6, 24, 120]"
            ]
          },
          "metadata": {},
          "execution_count": 15
        }
      ]
    },
    {
      "cell_type": "code",
      "source": [
        "Sequence_a_n"
      ],
      "metadata": {
        "colab": {
          "base_uri": "https://localhost:8080/"
        },
        "id": "PJskbay6kVgq",
        "outputId": "0a74bf5d-aa53-4502-9f6e-2fddecb2a7cc"
      },
      "execution_count": 16,
      "outputs": [
        {
          "output_type": "execute_result",
          "data": {
            "text/plain": [
              "[1, 2, 3, 4, 5]"
            ]
          },
          "metadata": {},
          "execution_count": 16
        }
      ]
    },
    {
      "cell_type": "markdown",
      "source": [
        "## Your own example of arithmetic series 2"
      ],
      "metadata": {
        "id": "2ZN0VK1ZrdXA"
      }
    },
    {
      "cell_type": "markdown",
      "source": [
        "The product of the first 10 odd numbers (1,3,5,7,9,11,13,15,17,19) is given by\n",
        "\n",
        "$$ \n",
        "1*3*5*\\ldots*19 = \\prod_{k=0}^{9} (1+2k)=2^{10}* \\frac{\\varGamma(\\frac{1}{2}+10)}{\\varGamma(\\frac{1}{2})}=654,729,075\n",
        "$$"
      ],
      "metadata": {
        "id": "O-WNIdwvr0qw"
      }
    },
    {
      "cell_type": "code",
      "source": [
        "import matplotlib.pyplot as plt\n",
        "\n",
        "n = 9\n",
        "a = 1\n",
        "d = 2\n",
        "S_n = 1\n",
        "Serie_S_n=[]\n",
        "Sequence_a_n =[1]\n",
        "for i in range(1,n+1):\n",
        "  a_n = a + (d*i) \n",
        "  S_n = S_n * a_n\n",
        "  Serie_S_n.append(S_n)\n",
        "  Sequence_a_n.append(a_n)"
      ],
      "metadata": {
        "id": "UojemH0crifl"
      },
      "execution_count": 25,
      "outputs": []
    },
    {
      "cell_type": "code",
      "source": [
        "print(S_n)"
      ],
      "metadata": {
        "colab": {
          "base_uri": "https://localhost:8080/"
        },
        "id": "g9Mk8Egft2JS",
        "outputId": "f2da16b3-b337-4d2c-adbd-812adc9ba51d"
      },
      "execution_count": 22,
      "outputs": [
        {
          "output_type": "stream",
          "name": "stdout",
          "text": [
            "654729075\n"
          ]
        }
      ]
    },
    {
      "cell_type": "code",
      "source": [
        "Serie_S_n"
      ],
      "metadata": {
        "colab": {
          "base_uri": "https://localhost:8080/"
        },
        "id": "pkqXkJYruEGu",
        "outputId": "f80307d5-c9af-4eb3-abcf-e06a51952216"
      },
      "execution_count": 23,
      "outputs": [
        {
          "output_type": "execute_result",
          "data": {
            "text/plain": [
              "[3, 15, 105, 945, 10395, 135135, 2027025, 34459425, 654729075]"
            ]
          },
          "metadata": {},
          "execution_count": 23
        }
      ]
    },
    {
      "cell_type": "code",
      "source": [
        "Sequence_a_n"
      ],
      "metadata": {
        "colab": {
          "base_uri": "https://localhost:8080/"
        },
        "id": "QNbedGfIuF8Y",
        "outputId": "c432dfcb-ac14-4735-fc9a-402312821c9a"
      },
      "execution_count": 26,
      "outputs": [
        {
          "output_type": "execute_result",
          "data": {
            "text/plain": [
              "[1, 3, 5, 7, 9, 11, 13, 15, 17, 19]"
            ]
          },
          "metadata": {},
          "execution_count": 26
        }
      ]
    },
    {
      "cell_type": "markdown",
      "metadata": {
        "id": "AKWJ1F7hac8T"
      },
      "source": [
        "# Geometric Series\n",
        "\n",
        "## Modified from Geometric Series -  [Wolfram MathWorld](https://mathworld.wolfram.com/GeometricSeries.html) - [wikipedia](https://en.wikipedia.org/wiki/Geometric_series)\n"
      ]
    },
    {
      "cell_type": "markdown",
      "metadata": {
        "id": "W5zx_-nR81GI"
      },
      "source": [
        "An geometric series is the sum of a sequence $\\{a_k\\}$ for $k=1, 2, ..., $ in which each term is computed from the previous one by adding (or subtracting) a constant $d$. \n",
        "\n",
        "\\begin{align*}\n",
        "a_0 &\\ \\ =\\ \\ r^0 \\ \\ =\\ \\ 1\\\\\n",
        "a_1 &\\ \\ =\\ \\ a_0 *  r \\ \\ =\\ \\  r\\\\\n",
        "a_2 &\\ \\ =\\ \\ a_1 * r\\ \\ =\\ \\ a_0 * r^2  \\ \\ =\\ \\ r^2 \\\\\n",
        "a_3 &\\ \\ =\\ \\ a_2 * r \\ \\ =\\ \\ a_0 * r^3 \\ \\ =\\ \\  r^3  \\\\\n",
        "a_4 &\\ \\ =\\ \\ a_3 * r\\ \\  =\\ \\ a_0 * r^4 \\ \\  =\\ \\ r^4  \\\\\n",
        "\\vdots\\\\\n",
        "a_k &\\ \\ =\\ \\ a_{(k-1)}* r \\ =\\   a_0 * r^k \\ \\  =\\ \\  r^k\n",
        "\\end{align*}\n",
        "\n",
        "The sum of the first $n$ terms  of  the geometric sequence (called an geometric serie)  is then given by\n",
        "$$\n",
        "\\begin{array}{ll}\n",
        "S_n &=  1 + r + r^2 + \\cdots + r^{n-1} +r^n \\\\\n",
        " &=  (1 + r + r^2 + \\cdots + r^{n-1} ) +r^n \\\\\n",
        " &= S_{n-1}  +r^n \n",
        "\\end{array}\n",
        "$$\n",
        "\n",
        "$$\n",
        "\\begin{array}{ll}\n",
        "S_n &=  1 + r + r^2 + \\cdots + r^{n-1} +r^n \\\\\n",
        " &=  1 + (r + r^2 + \\cdots + r^{n-1}  +r^n)  \\\\\n",
        " &=   1 + r (1 +  r  + r^2 + \\cdots + r^{n-1} )  \\\\\n",
        "  &=   1 + r   S_{n-1} \n",
        "\\end{array}\n",
        "$$\n",
        "\n",
        "Then\n",
        "$$\n",
        " S_{n-1}  +r^n =   1 + r   S_{n-1} \n",
        "$$\n",
        "\n",
        "Therefore\n",
        "$$\n",
        " S_{n-1} (1 -r)   +r^n =   1 - r^n \n",
        "$$\n",
        "\n",
        "$$\n",
        " S_{n-1}   =   \\frac{1 - r^n }{1 -r}\n",
        "$$\n",
        "\n",
        "$$\n",
        " S_{n}   =   \\frac{1 - r^{n+1} }{1 -r}  = \\frac{ r^{n+1} - 1}{r -1}\n",
        "$$\n"
      ]
    },
    {
      "cell_type": "markdown",
      "metadata": {
        "id": "CDUYfT8k8crr"
      },
      "source": [
        "## Nodes in Complete Binary Tree with $L=0,1,2,\\cdots , L-1$ levels \n",
        "\n",
        "![](https://raw.githubusercontent.com/gjhernandezp/algorithms/master/Lab7/ComBinTree.png)\n",
        "\n",
        "In a complete binary tree you have in ecah level $k =0,1,2,\\cdots $  $ 2^k $\n",
        "\n",
        "$$\n",
        "\\begin{array}{ll}\n",
        "\\text {Level } 0 \\rightarrow 2^0 = 1 \\text { node (root)} \\\\\n",
        "\\text {Level } 1 \\rightarrow 2^1 = 2 \\text { nodes} \\\\\n",
        "\\text {Level } 2 \\rightarrow 2^2 = 4 \\text { nodes} \\\\\n",
        "\\text {Level } 3 \\rightarrow 2^3 = 8 \\text { nodes} \\\\\n",
        "\\vdots\\\\\n",
        "\\text {Level } k \\rightarrow 2^k  \\text { nodes} \\\\\n",
        "\\end{array}\n",
        "$$\n",
        "\n",
        "nodes, with $l = 0,1,2, ... $ the level\n",
        "\n",
        "Total number of the complte tree with $L=0,1,2,\\cdots , L-1$ levels\n",
        "\n",
        "$$ \n",
        "2^0 + 2^1 + 2^2 + \\cdots +2^{L-1}  = 1 + 2 + 4 + \\cdots +2^{L-1} = \\sum_{k=0}^{L-1} 2^k = \\frac{ 2^{L} - 1}{2 -1} = 2^{L} - 1\n",
        "$$"
      ]
    },
    {
      "cell_type": "markdown",
      "metadata": {
        "id": "YiWlrhLZNMX9"
      },
      "source": [
        "# Code"
      ]
    },
    {
      "cell_type": "code",
      "metadata": {
        "id": "YvMkYU8UNOll",
        "colab": {
          "base_uri": "https://localhost:8080/",
          "height": 283
        },
        "outputId": "41c0b335-7262-4e0f-c950-e6dd3d207268"
      },
      "source": [
        "import matplotlib.pyplot as plt\n",
        "\n",
        "n = 15\n",
        "S_n = 1\n",
        "a=2\n",
        "b=1\n",
        "Serie_S_n=[1]\n",
        "Sequence_a_n =[]\n",
        "for i in range(0,n-1):\n",
        "  b*=a\n",
        "  S_n = b + S_n \n",
        "  Serie_S_n.append(S_n)\n",
        "  Sequence_a_n.append(i)\n",
        " \n",
        "\n",
        "plt.plot(Serie_S_n, color='black',label='Serie_S_n')\n",
        "plt.plot(Sequence_a_n, color='red',label='Sequence_a_n')\n",
        "plt.legend()\n"
      ],
      "execution_count": 41,
      "outputs": [
        {
          "output_type": "execute_result",
          "data": {
            "text/plain": [
              "<matplotlib.legend.Legend at 0x7f069e6d8750>"
            ]
          },
          "metadata": {},
          "execution_count": 41
        },
        {
          "output_type": "display_data",
          "data": {
            "text/plain": [
              "<Figure size 432x288 with 1 Axes>"
            ],
            "image/png": "[encoded data removed]"
          },
          "metadata": {
            "needs_background": "light"
          }
        }
      ]
    },
    {
      "cell_type": "code",
      "source": [
        "S_n"
      ],
      "metadata": {
        "colab": {
          "base_uri": "https://localhost:8080/"
        },
        "id": "oepPW0mHkJFB",
        "outputId": "9c913158-b2d9-4401-85d0-891303c5d55b"
      },
      "execution_count": 42,
      "outputs": [
        {
          "output_type": "execute_result",
          "data": {
            "text/plain": [
              "32767"
            ]
          },
          "metadata": {},
          "execution_count": 42
        }
      ]
    },
    {
      "cell_type": "code",
      "source": [
        "Serie_S_n"
      ],
      "metadata": {
        "colab": {
          "base_uri": "https://localhost:8080/"
        },
        "id": "QDncgZB9kIR4",
        "outputId": "4dc9b81a-bcf6-42c8-c635-62caf7c1a394"
      },
      "execution_count": 44,
      "outputs": [
        {
          "output_type": "execute_result",
          "data": {
            "text/plain": [
              "[1, 3, 7, 15, 31, 63, 127, 255, 511, 1023, 2047, 4095, 8191, 16383, 32767]"
            ]
          },
          "metadata": {},
          "execution_count": 44
        }
      ]
    },
    {
      "cell_type": "code",
      "source": [
        "Sequence_a_n"
      ],
      "metadata": {
        "colab": {
          "base_uri": "https://localhost:8080/"
        },
        "id": "e9SvhB9QkHpi",
        "outputId": "e6eac461-1c76-42a0-b426-b2e1cf35fd2c"
      },
      "execution_count": 45,
      "outputs": [
        {
          "output_type": "execute_result",
          "data": {
            "text/plain": [
              "[0, 1, 2, 3, 4, 5, 6, 7, 8, 9, 10, 11, 12, 13]"
            ]
          },
          "metadata": {},
          "execution_count": 45
        }
      ]
    },
    {
      "cell_type": "markdown",
      "source": [
        "#CODE 2\n",
        "\n",
        "The following code will give the result of the geometric series given by the next formula\n",
        "\n",
        "$$\n",
        "S_k = \\sum_{k=0}^n(1/3)^k\n",
        "$$"
      ],
      "metadata": {
        "id": "XLyP09Suo6ep"
      }
    },
    {
      "cell_type": "code",
      "source": [
        "import matplotlib.pyplot as plt\n",
        "\n",
        "n = 20\n",
        "S_n = 1\n",
        "a=(1/3)\n",
        "b=1\n",
        "Serie_S_n=[1]\n",
        "Sequence_a_n =[]\n",
        "for i in range(0,n-1):\n",
        "  b*=a\n",
        "  S_n = b + S_n \n",
        "  Serie_S_n.append(S_n)\n",
        "  Sequence_a_n.append(i)\n",
        " \n",
        "\n",
        "plt.plot(Serie_S_n, color='black',label='Serie_S_n')\n",
        "plt.plot(Sequence_a_n, color='red',label='Sequence_a_n')\n",
        "plt.legend()\n"
      ],
      "metadata": {
        "colab": {
          "base_uri": "https://localhost:8080/",
          "height": 283
        },
        "id": "EUqmOCeSqY78",
        "outputId": "c15335ea-d252-4881-ec29-77b5efe547ac"
      },
      "execution_count": 59,
      "outputs": [
        {
          "output_type": "execute_result",
          "data": {
            "text/plain": [
              "<matplotlib.legend.Legend at 0x7f069e3c3b90>"
            ]
          },
          "metadata": {},
          "execution_count": 59
        },
        {
          "output_type": "display_data",
          "data": {
            "text/plain": [
              "<Figure size 432x288 with 1 Axes>"
            ],
            "image/png": "[encoded data removed]"
          },
          "metadata": {
            "needs_background": "light"
          }
        }
      ]
    },
    {
      "cell_type": "code",
      "source": [
        "S_n"
      ],
      "metadata": {
        "colab": {
          "base_uri": "https://localhost:8080/"
        },
        "id": "I7FioPBVq8IE",
        "outputId": "c57eac9f-bc48-49b3-dc99-a74a05cbd5ef"
      },
      "execution_count": 60,
      "outputs": [
        {
          "output_type": "execute_result",
          "data": {
            "text/plain": [
              "1.4999999995698041"
            ]
          },
          "metadata": {},
          "execution_count": 60
        }
      ]
    },
    {
      "cell_type": "code",
      "source": [
        "Serie_S_n"
      ],
      "metadata": {
        "colab": {
          "base_uri": "https://localhost:8080/"
        },
        "id": "98YlvKfEq8CG",
        "outputId": "bdedf960-5c32-464b-9576-f6d5fdba55a0"
      },
      "execution_count": 61,
      "outputs": [
        {
          "output_type": "execute_result",
          "data": {
            "text/plain": [
              "[1,\n",
              " 1.3333333333333333,\n",
              " 1.4444444444444444,\n",
              " 1.4814814814814814,\n",
              " 1.4938271604938271,\n",
              " 1.4979423868312758,\n",
              " 1.4993141289437586,\n",
              " 1.4997713763145861,\n",
              " 1.499923792104862,\n",
              " 1.4999745973682874,\n",
              " 1.499991532456096,\n",
              " 1.4999971774853655,\n",
              " 1.4999990591617887,\n",
              " 1.499999686387263,\n",
              " 1.4999998954624212,\n",
              " 1.4999999651541405,\n",
              " 1.4999999883847135,\n",
              " 1.4999999961282378,\n",
              " 1.4999999987094126,\n",
              " 1.4999999995698041]"
            ]
          },
          "metadata": {},
          "execution_count": 61
        }
      ]
    },
    {
      "cell_type": "code",
      "source": [
        "Sequence_a_n"
      ],
      "metadata": {
        "colab": {
          "base_uri": "https://localhost:8080/"
        },
        "id": "jrcpmM7Cq71n",
        "outputId": "308d8519-27c7-4199-bcef-0eb9b7cd9ff6"
      },
      "execution_count": 49,
      "outputs": [
        {
          "output_type": "execute_result",
          "data": {
            "text/plain": [
              "[0, 1, 2, 3, 4, 5, 6, 7, 8, 9, 10, 11, 12, 13]"
            ]
          },
          "metadata": {},
          "execution_count": 49
        }
      ]
    },
    {
      "cell_type": "markdown",
      "source": [
        "we can see that the geometric series will go to 1.5 if n = $\\infty$\n",
        "$$\n",
        "S_k = \\lim_{n\\rightarrow∞}\\sum_{k=0}^{n}(1/3)^k\n",
        "$$\n"
      ],
      "metadata": {
        "id": "YqaGintnsk8V"
      }
    },
    {
      "cell_type": "markdown",
      "metadata": {
        "id": "Dd3RWDwJe2xD"
      },
      "source": [
        "## Zenon Arrow\n",
        "\n",
        "![](https://raw.githubusercontent.com/gjhernandezp/algorithms/master/Lab7/zeno-paradox-arrow.png)\n",
        "\n",
        "https://leseditionsdeschavonnes.com/2018/10/15/the-paradox-of-achilles-and-the-tortoise/\n",
        "\n",
        "\n",
        "\n",
        "$$ \n",
        "\\lim_{n\\rightarrow \\infty} \\left\\{\\left(\\frac{1}{2}\\right)^0 + \\left(\\frac{1}{2}\\right)^1 +\\left(\\frac{1}{2}\\right)^2 + \\cdots +\\left(\\frac{1}{2}\\right)^{n} \\right\\} = \\lim_{n\\rightarrow \\infty} \\left\\{ 1 +\\frac{1}{2} + \\frac{1}{4} + \\frac{1}{8} + \\cdots +\\frac{1}{2^{n}}\\right\\}  = \\lim_{n\\rightarrow \\infty} \\sum_{k=0}^{n} \\left(\\frac{1}{2}\\right)^k = \\lim_{n\\rightarrow \\infty} \\frac{ 1- \\left(\\frac{1}{2}\\right)^n  }{1 - \\left(\\frac{1}{2}\\right) } = \\frac{ 1}{1 - \\left(\\frac{1}{2}\\right)} = 2\n",
        "$$"
      ]
    },
    {
      "cell_type": "markdown",
      "metadata": {
        "id": "R-J4EekBNPkd"
      },
      "source": [
        "# Code"
      ]
    },
    {
      "cell_type": "code",
      "metadata": {
        "id": "8xdBovY3NEW_",
        "colab": {
          "base_uri": "https://localhost:8080/",
          "height": 283
        },
        "outputId": "e4fb564b-3e24-4e4a-a5e4-313ec8be8a36"
      },
      "source": [
        "import matplotlib.pyplot as plt\n",
        "\n",
        "n = 20\n",
        "S_n = 1\n",
        "a=(1/2)\n",
        "b=1\n",
        "Serie_S_n=[1]\n",
        "Sequence_a_n =[]\n",
        "for i in range(0,n-1):\n",
        "  b*=a\n",
        "  S_n = b + S_n \n",
        "  Serie_S_n.append(S_n)\n",
        "  Sequence_a_n.append(i)\n",
        " \n",
        "\n",
        "plt.plot(Serie_S_n, color='black',label='Serie_S_n')\n",
        "plt.plot(Sequence_a_n, color='red',label='Sequence_a_n')\n",
        "plt.legend()"
      ],
      "execution_count": 62,
      "outputs": [
        {
          "output_type": "execute_result",
          "data": {
            "text/plain": [
              "<matplotlib.legend.Legend at 0x7f069e3246d0>"
            ]
          },
          "metadata": {},
          "execution_count": 62
        },
        {
          "output_type": "display_data",
          "data": {
            "text/plain": [
              "<Figure size 432x288 with 1 Axes>"
            ],
            "image/png": "[encoded data removed]"
          },
          "metadata": {
            "needs_background": "light"
          }
        }
      ]
    },
    {
      "cell_type": "code",
      "source": [
        "S_n"
      ],
      "metadata": {
        "colab": {
          "base_uri": "https://localhost:8080/"
        },
        "id": "p01_w-XCuajA",
        "outputId": "07bbc4d8-d3e1-49c5-fcd7-830b5c6daf54"
      },
      "execution_count": 63,
      "outputs": [
        {
          "output_type": "execute_result",
          "data": {
            "text/plain": [
              "1.9999980926513672"
            ]
          },
          "metadata": {},
          "execution_count": 63
        }
      ]
    },
    {
      "cell_type": "code",
      "source": [
        "Serie_S_n"
      ],
      "metadata": {
        "colab": {
          "base_uri": "https://localhost:8080/"
        },
        "id": "7PckFdBFuaeE",
        "outputId": "c8068613-3aa1-47a5-f109-82a445c2aae1"
      },
      "execution_count": 64,
      "outputs": [
        {
          "output_type": "execute_result",
          "data": {
            "text/plain": [
              "[1,\n",
              " 1.5,\n",
              " 1.75,\n",
              " 1.875,\n",
              " 1.9375,\n",
              " 1.96875,\n",
              " 1.984375,\n",
              " 1.9921875,\n",
              " 1.99609375,\n",
              " 1.998046875,\n",
              " 1.9990234375,\n",
              " 1.99951171875,\n",
              " 1.999755859375,\n",
              " 1.9998779296875,\n",
              " 1.99993896484375,\n",
              " 1.999969482421875,\n",
              " 1.9999847412109375,\n",
              " 1.9999923706054688,\n",
              " 1.9999961853027344,\n",
              " 1.9999980926513672]"
            ]
          },
          "metadata": {},
          "execution_count": 64
        }
      ]
    },
    {
      "cell_type": "code",
      "source": [
        "Sequence_a_n"
      ],
      "metadata": {
        "colab": {
          "base_uri": "https://localhost:8080/"
        },
        "id": "fMzYc-PnuaVN",
        "outputId": "b467f518-5ce4-484a-bcd5-f4ece76422c3"
      },
      "execution_count": 65,
      "outputs": [
        {
          "output_type": "execute_result",
          "data": {
            "text/plain": [
              "[0, 1, 2, 3, 4, 5, 6, 7, 8, 9, 10, 11, 12, 13, 14, 15, 16, 17, 18]"
            ]
          },
          "metadata": {},
          "execution_count": 65
        }
      ]
    },
    {
      "cell_type": "markdown",
      "metadata": {
        "id": "dh2ntBeoNQlN"
      },
      "source": [
        "# Power Sums Power Sums - [Wolfram MathWorld](https://mathworld.wolfram.com/PowerSum.html) - [wikipedia](https://en.wikipedia.org/wiki/Sums_of_powers) - [reserachgate](https://www.researchgate.net/publication/331933608_The_Powers_Sums_Bernoulli_Numbers_Bernoulli_Polynomials_Rethinked)\n",
        "\n"
      ]
    },
    {
      "cell_type": "markdown",
      "source": [
        "There are two kinds of power sums commonly considered. The first is the sum of $p$th powers of a set of $n$ variables $x_k$,\n",
        "\n",
        "$$\n",
        "S_p(x_1,…,x_n)=\\sum_{k=1}^nx_k^p,\n",
        "$$\n",
        "\n",
        "and the second is the special case $x_k=k$, i.e.,\n",
        "\n",
        "$$\n",
        "S_p(n)=\\sum_{k=1}^nk^p.\n",
        "$$\n",
        "\n",
        "General power sums arise commonly in statistics. For example, $k$-statistics are most commonly defined in terms of power sums. Power sums are related to symmetric polynomials by the Newton-Girard formulas.\n",
        "\n",
        "The sum of $k$ times the $k$th power of $x$ is given analytically by\n",
        "\n",
        "$$\n",
        "\\sum_{k=0}^nkx^k = \\frac{x-(n+1)x^{n+1}+nx^{n+2}}{(x-1)^2}.\n",
        "$$\n",
        "\n",
        "Other analytic sums include\n",
        "\n",
        "\\begin{align*}\n",
        "(\\sum_{k=0}^{∞}x^k)^p &= (1-x)^{-p} \\\\\n",
        "    &= \\frac{1}{(p-1)!}\\sum_{n=0}^{∞}\\frac{(n+p-1)!}{n!}\\\\\n",
        "    &= \\frac{1}{(p-1)!}\\sum_{n=0}^{∞}(n+1)_{p-1}x^n\\\\\n",
        "\\end{align*}\n",
        "\n",
        "for $|x|<1$, where $(n)_p$ is a Pochhammer symbol. The finite version has the elegant closed form\n",
        "\n",
        "$$\n",
        "(\\sum_{k=0}^nx^k)^p = \\frac{1}{(p-1)!}\\sum_{k=0}^{np}\\frac{(n-|n-k|+p-1)!}{(n-|n-k|)!}x^k\n",
        "$$\n",
        "\n",
        "for $p=1$ and $2$. An additional sum is given by\n",
        "\n",
        "$$\n",
        "\\Biggl(\\sum_{n=0}^{∞}a_nx^n\\Biggl)^2=\\sum_{n=0}^{∞}a_n^2x^{2n}+2\\sum_{n=1}^{∞}a_ia_jx^n\n",
        "$$\n",
        "\n",
        "An analytic solution for a sum of powers of integers is\n",
        "\n",
        "\\begin{align*}\n",
        "S_p(n) &= \\sum_{k=1}^{n}k^p \\\\\n",
        "    &= \\zeta(-p)-\\zeta(-p,1+n)\\\\\n",
        "    &= H_n^{(-p)},\\\\\n",
        "\\end{align*}\n",
        "\n",
        "where $\\zeta(z)$ is the Riemann zeta function, $\\zeta(z;a)$ is the Hurwitz zeta function, and $H_n^{(k)}$ is a generalized harmonic number. For the special case of $p$ a positive integer, Faulhaber's formula gives the sum explicitly as\n",
        "\n",
        "$$\n",
        "S_p(n)=\\frac{1}{p+1}\\sum_{k=1}^{p+1}(-1)^{\\delta kp}\\bigl({p+1 \\atop k}\\bigl)B_{p+1-k}n^k\n",
        "$$\n",
        "\n",
        "where $\\delta_{kp}$ is the Kronecker delta, $ \\bigl( {n \\atop k } \\bigl) $ is a binomial coefficient, and $B_k$ is Bernoulli number. It is also true that the coefficients of the terms in such an expansion sum to 1, as stated by Bernoulli (Boyer 1943).\n",
        "\n",
        "Bernoulli used the property of the figurate number triangle that\n",
        "\n",
        "$$\n",
        "\\sum_{i=0}^n a_{ij}=\\frac{(n+1)a_{nj}}{j+1},\n",
        "$$\n",
        "\n",
        "along with a form for $a_{nj}$ which he derived inductively to compute the sums up to $n=10$ (Boyer 1968, p. 85). For $p \\in \\mathbb{Z} > 0$, the sum is given by\n",
        "\n",
        "$$\n",
        "\\sum_{k=1}^n k^p = \\frac{(B+n+1)^{[p+1]}-B^{[p+1]}}{p+1},\n",
        "$$\n",
        "\n",
        "where the notatio $B^{[k]}$ means the quantity in question is raised to the appropriate power $k$, and all terms of the form $B^m$ are replaced with the corresponding Bernoulli numbers $B_m$. Written explicitly in terms of sum of powers,\n",
        "\n",
        "\\begin{align*}\n",
        "\\sum_{k=1}^{n}k^p &= n^p + \\sum_{k=0}^p \\frac{B_kp!}{k!(p-k+1)!}n^{p-k+1} \\\\\n",
        "    &= \\sum_{k=1}^{p+1} \\frac{(-1)^{p-k+1}B_{p-k+1}p!}{k!(p-k+1)!}n^k\\\\\n",
        "    &= \\sum_{k=1}^{p+1}b_{pk}n^k, \\\\\n",
        "\\end{align*}\n",
        "\n",
        "where\n",
        "\n",
        "$$\n",
        "b_{pk}=\\frac{(-1)^{p-k+1}B_{p-k+1}p!}{k!(p-k+1)!}.\n",
        "$$\n",
        "\n",
        "It is also true that the coefficients of the terms $b_{pk}$ sum to $1$,\n",
        "\n",
        "$$\n",
        "\\sum_{k=1}^{p+1}b_{pk}=1,\n",
        "$$\n",
        "which Bernoulli stated without proof.\n",
        "\n",
        "A double series solution for $S_p (n)$ is given by\n",
        "\n",
        "$$\n",
        "S_p(n)=\\sum_{i=1}^p\\sum_{j=0}^{i-1}(-1)^j(i-j)^p\\bigl({n+p-i+1 \\atop n-1}\\bigl) \\bigl({p+1 \\atop j} \\bigl).\n",
        "$$\n",
        "\n",
        "Computing the sums for $p=1,\\dots , 10$ gives\n",
        "\n",
        "$$\n",
        "\\sum_{k=1}^nk=\\frac{1}{2}(n^2+n) \\\\\n",
        "\\sum_{k=1}^nk^2=\\frac{1}{6}(2n^3+3n^2+n) \\\\\n",
        "\\sum_{k=1}^nk^3=\\frac{1}{4}(n^4+2n^3+n^2) \\\\\n",
        "\\sum_{k=1}^nk^4=\\frac{1}{30}(6n^5+15n^4+10n^3-n) \\\\\n",
        "\\sum_{k=1}^nk^5=\\frac{1}{12}(2n^6+6n^5+5n^4-n^2) \\\\\n",
        "\\sum_{k=1}^nk^6=\\frac{1}{42}(6n^7+21n^6+21n^5-7n^3+n) \\\\\n",
        "\\sum_{k=1}^nk^7=\\frac{1}{24}(3n^8+12n^7+14n^6-7n^4+2n^2) \\\\\n",
        "\\sum_{k=1}^nk^8=\\frac{1}{90}(20n^9+45n^8+60n^7-42n^5+20n^3-3n) \\\\\n",
        "\\sum_{k=1}^nk^9=\\frac{1}{20}(2n^{10}+10n^9+15n^8-14n^6+10n^4-3n^2) \\\\\n",
        "\\sum_{k=1}^nk^{10}=\\frac{1}{66}(6n^{11}+33n^{10}+55n^9-66n^7+66n^5-33n^3+5n) \\\\\n",
        "$$\n",
        "\n",
        "or in factored form,\n",
        "\n",
        "$$\n",
        "\\sum_{k=1}^nk=\\frac{1}{2}n(n+1) \\\\\n",
        "\\sum_{k=1}^nk^2=\\frac{1}{6}n(n+1)(2n+1) \\\\\n",
        "\\sum_{k=1}^nk^3=\\frac{1}{4}n^2(n+1)^2 \\\\\n",
        "\\sum_{k=1}^nk^4=\\frac{1}{30}n(n+1)(2n+1)(3n^2+3n-1) \\\\\n",
        "\\sum_{k=1}^nk^5=\\frac{1}{12}n^2(n+1)^2(2n^2+2n-1) \\\\\n",
        "\\sum_{k=1}^nk^6=\\frac{1}{42}n(n+1)(2n+1)(3n^4+6n^3-3n+1) \\\\\n",
        "\\sum_{k=1}^nk^7=\\frac{1}{24}n^2(n+1)^2(3n^4+6n^3-n^2-4n+2) \\\\\n",
        "\\sum_{k=1}^nk^8=\\frac{1}{90}n(n+1)(2n+1)(5n^6+15n^5+5n^4-15n^3-n^2+9n-3) \\\\\n",
        "\\sum_{k=1}^nk^9=\\frac{1}{20}n^2(n+1)^2(n^2+n-1)(2n^4+4n^3-n^2-3n+3) \\\\\n",
        "\\sum_{k=1}^nk^{10}=\\frac{1}{66}n(n+1)(2n+1)(n^2+n-1)(3n^6+9n^5+2n^4-11n^3+3n^2+10n-5) \\\\\n",
        "$$\n",
        "\n",
        "(OEIS A064538 and A079618).\n",
        "\n",
        "<br>\n",
        "<div align=\"center\">\n",
        "<img src='https://mathworld.wolfram.com/images/eps-svg/Sumk_1000.svg' width=\"200\">\n",
        "</div>\n",
        "<br>\n",
        "<br>\n",
        "\n",
        "A simple graphical proof of the special case of $ S_1(n)=n(n+1)/2$ can also be given by constructing a sequence of stacks of boxes, each 1 unit across and $k$ units high, where $k=1, 2, ..., n$. Now add a rotated copy on top, as in the above figure. Note that the resulting figure has width n and height $n+1$, and so has area $n(n+1)$. The desired sum is half this, so the area of the boxes in the sum is $n(n+1)/2$. Since the boxes are of unit width, this is also the value of the sum.\n",
        "\n",
        "The sum $S_1(n)=n(n+1)/2$ can also be computed using the first Euler-Maclaurin integration formula\n",
        "\n",
        "$$\n",
        "\\sum_{k=1}^nk=  \\int_{1}^{n} f(x) \\,dx + \\frac{1}{2} f(1) + \\frac{1}{2} f(n) + \\frac{1}{2!} B_2[f'(n)-f'(1)]+… \n",
        "$$\n",
        "\n",
        "with $f(k)=k$. Then\n",
        "\n",
        "\\begin{align*}\n",
        "\\sum_{k=1}^{n}k &= \\int_{1}^{n} x \\,dx + \\frac {1}{2}1+ \\frac {1}{2}n + \\frac {1}{6}(1-1)+… \\\\\n",
        "    &= \\frac {1}{2}(n^2-1)-\\frac {1}{2}+h+\\frac {1}{2}n \\\\\n",
        "    &= \\frac {1}{2}n(n+1) \\\\\n",
        "\\end{align*}\n",
        "\n",
        "<br>\n",
        "<div align=\"center\">\n",
        "<img src='https://mathworld.wolfram.com/images/eps-svg/CubeSquare_600.svg' width=\"600\">\n",
        "</div>\n",
        "<br>\n",
        "<br>\n",
        "\n",
        "The surprising identity\n",
        "\n",
        "\\begin{align*}\n",
        "S_3(n) &= \\sum_{k=1}^nk^3 \\\\\n",
        "&= \\Biggl(\\sum_{k=1}^nk \\Biggl)^2,\n",
        "\\end{align*}\n",
        "\n",
        "known as Nicomachus's theorem, can also be illustrated graphically (Wells 1991, pp. 198-199).\n",
        "\n",
        "Schultz (1980) showed that the sum $S_p(n)$ can be found by writing\n",
        "\n",
        "$$\n",
        "S_p(n)=c_{p+1}n^{p+1}+\\dots+c_1n\n",
        "$$\n",
        "\n",
        "and solving the system of $p+1$ equations\n",
        "\n",
        "$$\n",
        "\\sum_{i=j+1}^{p+1}(-1)^{i-j+1} \\Bigl( {i \\atop j} \\Bigl) c_i = \\delta_{j,p}\n",
        "$$\n",
        "\n",
        "obtained for $j=0, 1, ..., p$ (Guo and Qi 1999), where $\\delta_{j,p}$ is the Kronecker delta. For example, the three equations to be solved for $p=2$ are\n",
        "\n",
        "$$\n",
        "0=c_1-c_2+c_3 \\\\\n",
        "0=2c_2-3c_3 \\\\\n",
        "1=3c_3,\n",
        "$$\n",
        "\n",
        "giving $c_1=1/6,c_2=1/2$ and $c_3=1/3$, or\n",
        "\n",
        "$$\n",
        "S_2(n)=\\frac{1}{6}n+\\frac{1}{2}n^2+\\frac{1}{3}n^3,\n",
        "$$\n",
        "\n",
        "as expected.\n",
        "\n",
        "$S_i (n)$ is related to the binomial theorem by\n",
        "\n",
        "$$\n",
        "(1+n)^{k+1} = 1+\\sum_{i=0}^k \\Biggl( {k+1 \\atop i} \\Biggl) S_i(n)\n",
        "$$\n",
        "\n",
        "(Guo and Qi 1999)."
      ],
      "metadata": {
        "id": "t1nADRZhuoDQ"
      }
    },
    {
      "cell_type": "markdown",
      "source": [
        "#EXAMPLE 1\n",
        "$$\n",
        "S_p(n) = \\sum_{k=1}^{n}k^p\n",
        "$$\n",
        "This formula is solve in the next code with $n=20$:"
      ],
      "metadata": {
        "id": "h9qVszPUU7d2"
      }
    },
    {
      "cell_type": "code",
      "metadata": {
        "id": "2PyxzzOZVIdl",
        "colab": {
          "base_uri": "https://localhost:8080/",
          "height": 283
        },
        "outputId": "03ef141d-321a-448e-fe73-39147933cb80"
      },
      "source": [
        "import matplotlib.pyplot as plt\n",
        "\n",
        "n = 20\n",
        "S_n = 0\n",
        "b=1\n",
        "Serie_S_n=[1]\n",
        "Sequence_a_n =[]\n",
        "for i in range(1,n+1):\n",
        "  S_n = (i**b) + S_n \n",
        "  Serie_S_n.append(S_n)\n",
        "  Sequence_a_n.append(i)\n",
        " \n",
        "\n",
        "plt.plot(Serie_S_n, color='black',label='Serie_S_n')\n",
        "plt.plot(Sequence_a_n, color='red',label='Sequence_a_n')\n",
        "plt.legend()"
      ],
      "execution_count": 66,
      "outputs": [
        {
          "output_type": "execute_result",
          "data": {
            "text/plain": [
              "<matplotlib.legend.Legend at 0x7f069e252810>"
            ]
          },
          "metadata": {},
          "execution_count": 66
        },
        {
          "output_type": "display_data",
          "data": {
            "text/plain": [
              "<Figure size 432x288 with 1 Axes>"
            ],
            "image/png": "[encoded data removed]"
          },
          "metadata": {
            "needs_background": "light"
          }
        }
      ]
    },
    {
      "cell_type": "code",
      "source": [
        "S_n"
      ],
      "metadata": {
        "colab": {
          "base_uri": "https://localhost:8080/"
        },
        "id": "N-2p1UxkV4-q",
        "outputId": "2c17791c-b675-4dc4-ee4a-dffc8a2e8e73"
      },
      "execution_count": 67,
      "outputs": [
        {
          "output_type": "execute_result",
          "data": {
            "text/plain": [
              "210"
            ]
          },
          "metadata": {},
          "execution_count": 67
        }
      ]
    },
    {
      "cell_type": "code",
      "source": [
        "Serie_S_n"
      ],
      "metadata": {
        "colab": {
          "base_uri": "https://localhost:8080/"
        },
        "id": "ANVAAbcxV45O",
        "outputId": "e8081aac-0d93-4148-9d6d-c4eacf68a4d0"
      },
      "execution_count": 68,
      "outputs": [
        {
          "output_type": "execute_result",
          "data": {
            "text/plain": [
              "[1,\n",
              " 1,\n",
              " 3,\n",
              " 6,\n",
              " 10,\n",
              " 15,\n",
              " 21,\n",
              " 28,\n",
              " 36,\n",
              " 45,\n",
              " 55,\n",
              " 66,\n",
              " 78,\n",
              " 91,\n",
              " 105,\n",
              " 120,\n",
              " 136,\n",
              " 153,\n",
              " 171,\n",
              " 190,\n",
              " 210]"
            ]
          },
          "metadata": {},
          "execution_count": 68
        }
      ]
    },
    {
      "cell_type": "code",
      "source": [
        "Sequence_a_n"
      ],
      "metadata": {
        "colab": {
          "base_uri": "https://localhost:8080/"
        },
        "id": "ODA6Ms6HV4wY",
        "outputId": "fbc341b4-e3a6-421a-81b3-a1cfa7510dfd"
      },
      "execution_count": 69,
      "outputs": [
        {
          "output_type": "execute_result",
          "data": {
            "text/plain": [
              "[1, 2, 3, 4, 5, 6, 7, 8, 9, 10, 11, 12, 13, 14, 15, 16, 17, 18, 19, 20]"
            ]
          },
          "metadata": {},
          "execution_count": 69
        }
      ]
    },
    {
      "cell_type": "markdown",
      "source": [
        "#EXAMPLE 2\n",
        "$$\n",
        "\\sum_{k=0}^nkx^k = \\frac{x-(n+1)x^{n+1}+nx^{n+2}}{(x-1)^2}\n",
        "$$\n",
        "This formula is solve in the next code with $n=20$ and $x=2$:"
      ],
      "metadata": {
        "id": "umJntdHhV_Mg"
      }
    },
    {
      "cell_type": "code",
      "source": [
        "import matplotlib.pyplot as plt\n",
        "\n",
        "n = 20\n",
        "S_n = 0\n",
        "b=1\n",
        "x=2\n",
        "Serie_S_n=[1]\n",
        "Sequence_a_n =[]\n",
        "for i in range(0,n+1):\n",
        "  S_n = i*(x**i) + S_n \n",
        "  Serie_S_n.append(S_n)\n",
        "  Sequence_a_n.append(i)\n",
        " \n",
        "\n",
        "plt.plot(Serie_S_n, color='black',label='Serie_S_n')\n",
        "plt.plot(Sequence_a_n, color='red',label='Sequence_a_n')\n",
        "plt.legend()"
      ],
      "metadata": {
        "colab": {
          "base_uri": "https://localhost:8080/",
          "height": 294
        },
        "id": "-pSK_Ds2V_ct",
        "outputId": "0fcb9459-36d9-46a5-80b1-3f218f8f6861"
      },
      "execution_count": 70,
      "outputs": [
        {
          "output_type": "execute_result",
          "data": {
            "text/plain": [
              "<matplotlib.legend.Legend at 0x7f069e1edf10>"
            ]
          },
          "metadata": {},
          "execution_count": 70
        },
        {
          "output_type": "display_data",
          "data": {
            "text/plain": [
              "<Figure size 432x288 with 1 Axes>"
            ],
            "image/png": "[encoded data removed]"
          },
          "metadata": {
            "needs_background": "light"
          }
        }
      ]
    },
    {
      "cell_type": "code",
      "source": [
        "S_n"
      ],
      "metadata": {
        "colab": {
          "base_uri": "https://localhost:8080/"
        },
        "id": "8mTgQ6LBXMS8",
        "outputId": "f2575338-0080-45c6-dc96-dbf8d6dc48b9"
      },
      "execution_count": 71,
      "outputs": [
        {
          "output_type": "execute_result",
          "data": {
            "text/plain": [
              "39845890"
            ]
          },
          "metadata": {},
          "execution_count": 71
        }
      ]
    },
    {
      "cell_type": "markdown",
      "source": [
        "$$\n",
        "\\frac{2-(20+1)2^{20+1}+20*2^{20+2}}{(2-1)^2}=39845890\n",
        "$$"
      ],
      "metadata": {
        "id": "fLYGRvzuXXy0"
      }
    },
    {
      "cell_type": "code",
      "source": [
        "Serie_S_n"
      ],
      "metadata": {
        "colab": {
          "base_uri": "https://localhost:8080/"
        },
        "id": "0XIDKbX-XMOg",
        "outputId": "eff6cc2f-a614-40ab-a8bb-acbabcbb7327"
      },
      "execution_count": 72,
      "outputs": [
        {
          "output_type": "execute_result",
          "data": {
            "text/plain": [
              "[1,\n",
              " 0,\n",
              " 2,\n",
              " 10,\n",
              " 34,\n",
              " 98,\n",
              " 258,\n",
              " 642,\n",
              " 1538,\n",
              " 3586,\n",
              " 8194,\n",
              " 18434,\n",
              " 40962,\n",
              " 90114,\n",
              " 196610,\n",
              " 425986,\n",
              " 917506,\n",
              " 1966082,\n",
              " 4194306,\n",
              " 8912898,\n",
              " 18874370,\n",
              " 39845890]"
            ]
          },
          "metadata": {},
          "execution_count": 72
        }
      ]
    },
    {
      "cell_type": "code",
      "source": [
        "Sequence_a_n"
      ],
      "metadata": {
        "colab": {
          "base_uri": "https://localhost:8080/"
        },
        "id": "lIM80-fBXMIi",
        "outputId": "83fef7b2-4d5c-424f-cee6-566a22234232"
      },
      "execution_count": 73,
      "outputs": [
        {
          "output_type": "execute_result",
          "data": {
            "text/plain": [
              "[0, 1, 2, 3, 4, 5, 6, 7, 8, 9, 10, 11, 12, 13, 14, 15, 16, 17, 18, 19, 20]"
            ]
          },
          "metadata": {},
          "execution_count": 73
        }
      ]
    }
  ]
}