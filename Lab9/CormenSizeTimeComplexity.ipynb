{
  "nbformat": 4,
  "nbformat_minor": 0,
  "metadata": {
    "colab": {
      "provenance": [],
      "include_colab_link": true
    },
    "kernelspec": {
      "name": "python3",
      "display_name": "Python 3"
    },
    "language_info": {
      "name": "python"
    }
  },
  "cells": [
    {
      "cell_type": "markdown",
      "metadata": {
        "id": "view-in-github",
        "colab_type": "text"
      },
      "source": [
        "<a href=\"https://colab.research.google.com/github/mpolancob/AlgorithmsUN2022II/blob/main/Lab9/CormenSizeTimeComplexity.ipynb\" target=\"_parent\"><img src=\"https://colab.research.google.com/assets/colab-badge.svg\" alt=\"Open In Colab\"/></a>"
      ]
    },
    {
      "cell_type": "markdown",
      "metadata": {
        "id": "yCCsCOW2OQbQ"
      },
      "source": [
        "# 1.(10  nanoseconds by instruction)\n",
        "\n",
        "Asuuming that you can execute a 100 million instructions $100 \\times 10^6$ every second, i.e. each instrcution takes 10 nanoseconds, 10 $\\eta s  = 10^{-8} s $. If you have algorithms take $\\bf{ Time\\ Complexity}$ steps to solve a poblem of size $n$ as specified in column one. What is the size of the largest porblem that you can solve in the time specified in row one?\n",
        "$$\n",
        "\\begin{array}{|c|c|c|c|c|c|c|c|} \n",
        " \\hline\n",
        " \\bf{ Time\\ Complexity} & Second  & Minute  & Hour & Day & Year & Century & Mileniun  \\\\ \n",
        "  \\hline\\\\ \n",
        "\\lg(n) & 2^{10^{8}} & 2^{60 \\times 10^{8}} & 2^{3.6 \\times 10^{11}} & 2^{8.64 \\times 10^{12}}& 2^{3.1536 \\times 10^{15}} & 2^{3.1536 \\times 10^{17}} & 2^{3.1536 \\times 10^{20}} \\\\ \n",
        "   \\hline\\\\ \n",
        "\\lg^2(n) & 2^{10000} & 2^{77460} & 2^{600000} & 2^{2939388} & 2^{56156923} & 2^{561569230} & 2^{17758378304} \\\\ \n",
        "   \\hline\\\\ \n",
        "\\sqrt{n} & 10^{16} & 3.6 \\times 10^{19}  & 1.296 \\times 10^{23} & 7.46496 \\times 10^{25}& 9.94519296 \\times 10^{30} & 9.94519296  \\times 10^{34} & 9.94519296 \\times 10^{40} \\\\ \n",
        " \\hline\n",
        " n & 10^{8} & 6 \\times 10^{9} & 3.6 \\times 10^{11} & 8.64 \\times 10^{12} & 6.41136862 \\times 10^{15} & 3.1536 \\times 10^{17} & 3.1536 \\times 10^{20} \\\\ \n",
        " \\hline\n",
        " n\\lg(n) & 4523071 & 2.16677120\\times 10^{8} & 1.08009383\\times 10^{10} & 2.28957338\\times 10^{11} & 6.86109568 \\times 10^{13} & 6.01627776\\times 10^{15} & 5.07514271\\times 10^{18} \\\\ \n",
        " \\hline\n",
        " n^2 & 10000 & 77460 & 600000 & 2939388 & 56156923 & 561569230 & 17758378304 \\\\ \n",
        " \\hline\n",
        "  n^3 & 464 & 1817 & 7114 & 20520 &  146646 & 680668 & 6806683 \\\\ \n",
        " \\hline\n",
        "  n^4 & 100 & 278 & 775 & 1714 & 7494 & 23697 & 133261 \\\\ \n",
        " \\hline\n",
        "  2^n & 26 & 32 & 38 & 42 & 51 & 58 & 68  \\\\ \n",
        " \\hline\n",
        " n! & 11 & 12 & 14 & 15 & 17 & 19 & 21 \\\\ \n",
        " \\hline\n",
        " n^n & 8 & 9 & 11 & 11 & 13 & 14 & 16 \\\\ \n",
        " \\hline\n",
        "\\end{array}\n",
        "$$"
      ]
    },
    {
      "cell_type": "markdown",
      "metadata": {
        "id": "KjOx64x_neC3"
      },
      "source": [
        "$\\bf{ Time\\ Complexity\\ \\lg(n) }$\n",
        "\n",
        "$Second$\n",
        "$$ \\lg(n) \\times 10^{-8}\\ s\\le 1\\ s$$ \n",
        "$$ \\lg(n) \\le 1 * 10^{8}$$ \n",
        "$$ 2^{\\lg(n)} \\le 2^{10^{8}}$$ \n",
        "$$ n \\le 2^{10^{8}}$$ \n",
        "\n",
        "$Minute$\n",
        "$$ \\lg(n) \\times 10^{-8} \\ s \\le 60\\ s$$ \n",
        "$$ \\lg(n) \\le 60 \\times 10^{8} $$ \n",
        "$$ 2^{\\lg(n)} \\le 2^{60 \\times 10^{8} }$$ \n",
        "$$ n \\le 2^{60 \\times 10^{8} }$$ \n",
        "\n",
        "$Hour$\n",
        "$$ \\lg(n) \\times 10^{-8} \\ s \\le 3600\\ s$$ \n",
        "$$ \\lg(n) \\le 3600 \\times 10^{8} $$ \n",
        "$$ 2^{\\lg(n)} \\le 2^{3.6 \\times 10^{11}}$$ \n",
        "$$ n \\le 2^{3.6 \\times 10^{11}}$$ \n",
        "\n",
        "$Day$\n",
        "$$ \\lg(n) \\times 10^{-8} \\ s \\le 86400\\ s$$ \n",
        "$$ \\lg(n) \\le 86400\\times 10^{8} $$ \n",
        "$$ 2^{\\lg(n)} \\le 2^{8.64 \\times 10^{12}}$$ \n",
        "$$ n \\le 2^{8.64 \\times 10^{12}}$$ \n",
        "\n",
        "$Year$\n",
        "$$ \\lg(n) \\times 10^{-8} \\ s \\le 31536000\\ s$$ \n",
        "$$ \\lg(n) \\le 31536000\\times 10^{8} $$ \n",
        "$$ 2^{\\lg(n)} \\le 2^{3.1536 \\times 10^{15}}$$ \n",
        "$$ n \\le 2^{3.1536 \\times 10^{15}}$$ \n",
        "\n",
        "$Century$\n",
        "$$ \\lg(n) \\times 10^{-8} \\ s \\le 3153600000\\ s$$ \n",
        "$$ \\lg(n) \\le 3153600000\\times 10^{8} $$ \n",
        "$$ 2^{\\lg(n)} \\le 2^{3.1536 \\times 10^{17}}$$ \n",
        "$$ n \\le 2^{3.1536 \\times 10^{17}}$$ \n",
        "\n",
        "$Mileniun$\n",
        "$$ \\lg(n) \\times 10^{-8} \\ s \\le 3153600000000\\ s$$ \n",
        "$$ \\lg(n) \\le 3153600000000\\times 10^{8} $$ \n",
        "$$ 2^{\\lg(n)} \\le 2^{3.1536 \\times 10^{20}}$$ \n",
        "$$ n \\le 2^{3.1536 \\times 10^{20}}$$ "
      ]
    },
    {
      "cell_type": "markdown",
      "metadata": {
        "id": "0WbKCbs4neC3"
      },
      "source": [
        "$\\bf{ Time\\ Complexity\\ \\lg^2(n) }$\n",
        "\n",
        "$Second$\n",
        "$$ \\lg^2(n) \\times 10^{-8} \\ s\\le 1\\ s$$ \n",
        "$$ \\lg(n) \\le \\sqrt{1 * 10^{8}} $$ \n",
        "$$ 2^{\\lg(n)} \\le 2^{\\sqrt{1 * 10^{8}} }$$ \n",
        "$$ n \\le 2^{ 10000 }$$ \n",
        "\n",
        "$Minute$\n",
        "$$ \\lg^2(n) \\times 10^{-8} \\ s \\le 60\\ s$$ \n",
        "$$ \\lg(n) \\le \\sqrt{60 \\times 10^{8}} $$ \n",
        "$$ 2^{\\lg(n)} \\le 2^{\\sqrt{60 \\times 10^{8}} }$$ \n",
        "$$ n \\le 2^{ 77460 }$$ \n",
        "\n",
        "$Hour$\n",
        "$$ \\lg^2(n) \\times 10^{-8} \\ s \\le 3600\\ s$$ \n",
        "$$ \\lg(n) \\le \\sqrt{3600 \\times 10^{8}} $$ \n",
        "$$ 2^{\\lg(n)} \\le 2^{\\sqrt{3.6 \\times 10^{11}}}$$ \n",
        "$$ n \\le 2^{ 600000 }$$ \n",
        "\n",
        "$Day$\n",
        "$$ \\lg^2(n) \\times 10^{-8} \\ s \\le 86400\\ s$$ \n",
        "$$ \\lg(n) \\le \\sqrt{86400\\times 10^{8}} $$ \n",
        "$$ 2^{\\lg(n)} \\le 2^{\\sqrt{8.6400\\times 10^{12}}}$$ \n",
        "$$ n \\le 2^{ 2939388 }$$ \n",
        "\n",
        "$Year$\n",
        "$$ \\lg^2(n) \\times 10^{-8} \\ s \\le 31536000\\ s$$ \n",
        "$$ \\lg(n) \\le \\sqrt{31536000\\times 10^{8}} $$ \n",
        "$$ 2^{\\lg(n)} \\le 2^{\\sqrt{3.1536\\times 10^{15}}}$$ \n",
        "$$ n \\le 2^{ 56156923 }$$ \n",
        "\n",
        "$Century$\n",
        "$$ \\lg^2(n) \\times 10^{-8} \\ s \\le 3153600000\\ s$$ \n",
        "$$ \\lg(n) \\le \\sqrt{3153600000\\times 10^{8}} $$ \n",
        "$$ 2^{\\lg(n)} \\le 2^{\\sqrt{3.1536 \\times 10^{17}}}$$ \n",
        "$$ n \\le 2^{ 561569230 }$$ \n",
        "\n",
        "$Mileniun$\n",
        "$$ \\lg^2(n) \\times 10^{-8} \\ s \\le 3153600000000\\ s$$ \n",
        "$$ \\lg(n) \\le \\sqrt{3153600000000\\times 10^{8}} $$ \n",
        "$$ 2^{\\lg(n)} \\le 2^{\\sqrt{3.1536 \\times 10^{20}}}$$ \n",
        "$$ n \\le 2^{ 17758378304 }$$ "
      ]
    },
    {
      "cell_type": "code",
      "execution_count": null,
      "metadata": {
        "id": "k9OpBxxCneC4",
        "outputId": "6892f607-b273-40ab-cfe4-1a3d7dd4b1fd",
        "colab": {
          "base_uri": "https://localhost:8080/"
        }
      },
      "outputs": [
        {
          "output_type": "stream",
          "name": "stdout",
          "text": [
            "Second 2^{ 10000 }\n",
            "Minute 2^{ 77460 }\n",
            "Hour 2^{ 600000 }\n",
            "Day 2^{ 2939388 }\n",
            "Year 2^{ 56156923 }\n",
            "Century 2^{ 561569230 }\n",
            "Mileniun 2^{ 17758378304 }\n"
          ]
        }
      ],
      "source": [
        "import math\n",
        "print(\"Second 2^{\",round(math.sqrt(10**8)),\"}\")\n",
        "print(\"Minute 2^{\",round(math.sqrt(60*10**8)),\"}\")\n",
        "print(\"Hour 2^{\",round(math.sqrt(60*60*10**8)),\"}\")\n",
        "print(\"Day 2^{\",round(math.sqrt(24*60*60*10**8)),\"}\")\n",
        "print(\"Year 2^{\",round(math.sqrt(365*24*60*60*10**8)),\"}\")\n",
        "print(\"Century 2^{\",round(math.sqrt(100*365*24*60*60*10**8)),\"}\")\n",
        "print(\"Mileniun 2^{\",round(math.sqrt(1000*100*365*24*60*60*10**8)),\"}\")"
      ]
    },
    {
      "cell_type": "markdown",
      "metadata": {
        "id": "4v1NvrLBneC5"
      },
      "source": [
        "$\\bf{ Time\\ Complexity\\ \\sqrt{n} }$\n",
        "\n",
        "$Second$\n",
        "$$ \\sqrt{n} \\times 10^{-8} \\ s\\le 1\\ s$$ \n",
        "$$ \\sqrt{n} \\le 10^{8} $$\n",
        "$$ n \\le 10^{ 16 }$$ \n",
        "\n",
        "$Minute$\n",
        "$$ \\sqrt{n} \\times 10^{-8} \\ s\\le 60\\ s$$ \n",
        "$$ \\sqrt{n} \\le 60 \\times 10^{8}$$ \n",
        "$$ n \\le 3.600 \\times10^{19}$$ \n",
        "\n",
        "$Hour$\n",
        "$$ \\sqrt{n}\\times 10^{-8} \\ s\\le 3600\\ s$$ \n",
        "$$ \\sqrt{n} \\le 3600 \\times 10^{6}$$ \n",
        "$$ n \\le 1.296 \\times10^{23}$$ \n",
        "\n",
        "$Day$\n",
        "$$ \\sqrt{n} \\times 10^{-8} \\ s\\le 86400\\ s$$ \n",
        "$$ \\sqrt{n}\\le 86400 \\times 10^{8}$$ \n",
        "$$ n \\le 7.46496 \\times10^{25}$$ \n",
        "\n",
        "$Year$\n",
        "$$ \\sqrt{n} \\times 10^{-8} \\ s\\le 31536000\\ s$$ \n",
        "$$ \\sqrt{n} \\le 31536000 \\times 10^{8}$$ \n",
        "$$ n \\le 9.94519296 \\times10^{30}$$ \n",
        "\n",
        "$Century$\n",
        "$$ \\sqrt{n} \\times 10^{-8} \\ s\\le 3153600000\\ s$$ \n",
        "$$ \\sqrt{n} \\le 3153600000 \\times 10^{8}$$ \n",
        "$$ n \\le 9.94519296 \\times10^{ 34 }$$ \n",
        "\n",
        "$Mileniun$\n",
        "$$ \\sqrt{n} \\times 10^{-8} \\ s\\le 3153600000000\\ s$$ \n",
        "$$ \\sqrt{n} \\le 3153600000000 \\times 10^{8}$$ \n",
        "$$ n \\le 9.94519296 \\times10^{ 40 }$$ \n",
        "\n"
      ]
    },
    {
      "cell_type": "code",
      "execution_count": null,
      "metadata": {
        "id": "3SxtXfijneC5",
        "outputId": "26d874fe-9174-43b8-9ef7-3dedb5837946",
        "colab": {
          "base_uri": "https://localhost:8080/"
        }
      },
      "outputs": [
        {
          "output_type": "stream",
          "name": "stdout",
          "text": [
            "Second  1.00000000E+16\n",
            "Minute   3.60000000E+19\n",
            "Hour  1.29600000E+23\n",
            "Day  7.46496000E+25\n",
            "Year  9.94519296E+30\n",
            "Century  9.94519296E+34\n",
            "Mileniun   9.94519296E+40\n"
          ]
        }
      ],
      "source": [
        "import math\n",
        "print(\"Second \", \"{:.8E}\".format(math.pow(10**8,2)))\n",
        "print(\"Minute \",\"{:.8E}\".format(math.pow(60*10**8,2)))\n",
        "print(\"Hour \",\"{:.8E}\".format(math.pow(60*60*10**8,2)))\n",
        "print(\"Day \",\"{:.8E}\".format(math.pow(24*60*60*10**8,2)))\n",
        "print(\"Year \",\"{:.8E}\".format(math.pow(365*24*60*60*10**8,2)))\n",
        "print(\"Century \",\"{:.8E}\".format(math.pow(100*365*24*60*60*10**8,2)))\n",
        "print(\"Mileniun  \",\"{:.8E}\".format(math.pow(1000*100*365*24*60*60*10**8,2)))"
      ]
    },
    {
      "cell_type": "markdown",
      "metadata": {
        "id": "HEEZ9r4bneC6"
      },
      "source": [
        "$\\bf{ Time\\ Complexity\\ n }$\n",
        "\n",
        "$Second$\n",
        "$$ n \\times 10^{-8}\\ s\\le 1\\ s$$ \n",
        "$$ n \\le 10^{8}$$ \n",
        "\n",
        "\n",
        "$Minute$\n",
        "$$ n \\times 10^{-8}\\ s\\le 60\\ s$$ \n",
        "$$ n \\le 60 \\times 10^{8}$$ \n",
        "\n",
        "\n",
        "$Hour$\n",
        "$$ n \\times 10^{-8}\\ s\\le 3600\\ s$$ \n",
        "$$ n \\le 3600 \\times 10^{8} = 3.6 \\times 10^{11}$$ \n",
        "\n",
        "\n",
        "$Day$\n",
        "$$ n \\times 10^{-8}\\ s\\le 86400\\ s$$ \n",
        "$$ n \\le 86400 \\times 10^{8} = 8.64 \\times 10^{12}$$ \n",
        "\n",
        "\n",
        "$Year$\n",
        "$$ n \\times 10^{-8}\\ s\\le 31536000\\ s$$ \n",
        "$$ n \\le 31536000 \\times 10^{8} = 3.153 \\times 10^{15}$$ \n",
        "\n",
        "\n",
        "\n",
        "$Century$\n",
        "$$ n \\times 10^{-8}\\ s\\le 3153600000\\ s$$ \n",
        "$$ n \\le 3153600000 \\times 10^{8} = 3.153 \\times 10^{17}$$ \n",
        " \n",
        "\n",
        "$Mileniun$\n",
        "$$ n \\times 10^{-8}\\ s\\le 3153600000000\\ s$$ \n",
        "$$ n \\le 3153600000000 \\times 10^{8} = 3.153 \\times 10^{20}$$ "
      ]
    },
    {
      "cell_type": "code",
      "execution_count": null,
      "metadata": {
        "id": "l28yh8j9neC6",
        "outputId": "0d6cb78c-8625-4b8a-c0ec-0df2aeee88e6",
        "colab": {
          "base_uri": "https://localhost:8080/"
        }
      },
      "outputs": [
        {
          "output_type": "stream",
          "name": "stdout",
          "text": [
            "Second  1.00000000E+08\n",
            "Minute   6.00000000E+09\n",
            "Hour  3.60000000E+11\n",
            "Day  8.64000000E+12\n",
            "Year  3.15360000E+15\n",
            "Century  3.15360000E+17\n",
            "Mileniun   3.15360000E+20\n"
          ]
        }
      ],
      "source": [
        "import math\n",
        "print(\"Second \", \"{:.8E}\".format(10**8))\n",
        "print(\"Minute \",\"{:.8E}\".format(60*10**8))\n",
        "print(\"Hour \",\"{:.8E}\".format(60*60*10**8))\n",
        "print(\"Day \",\"{:.8E}\".format(24*60*60*10**8))\n",
        "print(\"Year \",\"{:.8E}\".format(365*24*60*60*10**8))\n",
        "print(\"Century \",\"{:.8E}\".format(100*365*24*60*60*10**8))\n",
        "print(\"Mileniun  \",\"{:.8E}\".format(1000*100*365*24*60*60*10**8))"
      ]
    },
    {
      "cell_type": "markdown",
      "metadata": {
        "id": "DnoOiMmgneC7"
      },
      "source": [
        "$\\bf{ Time\\ Complexity\\ n\\lg{n} }$\n",
        "\n",
        "$Second$\n",
        "$$ n\\lg{n} \\times 10^{-8} \\ s\\le 1\\ s$$ \n",
        "$$ n\\lg{n} \\le 10^{8} $$ \n",
        "\n",
        "\n",
        "$Minute$\n",
        "$$ n\\lg{n} \\times 10^{-8} \\ s\\le 60\\ s$$ \n",
        "$$ n\\lg{n} \\le 60 \\times 10^{8} $$ \n",
        "\n",
        "\n",
        "$Hour$\n",
        "$$ n\\lg{n} \\times 10^{-8} \\ s\\le 3600\\ s$$ \n",
        "$$ n\\lg{n} \\le 3600 \\times 10^{8} $$ \n",
        "\n",
        "\n",
        "$Day$\n",
        "$$ n\\lg{n} \\times 10^{-8} \\ s\\le 86400\\ s$$ \n",
        "$$ n\\lg{n} \\le 86400 \\times 10^{8} $$ \n",
        "\n",
        "\n",
        "$Year$\n",
        "$$ n\\lg{n} \\times 10^{-8} \\ s\\le 31536000\\ s$$ \n",
        "$$ n\\lg{n} \\le 31536000 \\times 10^{8} $$ \n",
        "\n",
        "\n",
        "\n",
        "$Century$\n",
        "$$ n\\lg{n} \\times 10^{-8} \\ s\\le 3153600000\\ s$$ \n",
        "$$ n\\lg{n} \\le 3153600000 \\times 10^{8} $$ \n",
        " \n",
        "\n",
        "$Mileniun$\n",
        "$$ n\\lg{n} \\times 10^{-8} \\ s\\le 3153600000000\\ s$$ \n",
        "$$ n \\le 3153600000000 \\times 10^{8} $$ "
      ]
    },
    {
      "cell_type": "code",
      "execution_count": null,
      "metadata": {
        "id": "bgd8qz2LneC7",
        "outputId": "e6f8d408-bc8f-4a61-80c9-c9c77fd4b8dd",
        "colab": {
          "base_uri": "https://localhost:8080/"
        }
      },
      "outputs": [
        {
          "output_type": "stream",
          "name": "stdout",
          "text": [
            "Second  4523071  =  4.52307100E+06\n",
            "Minute   216677120  =  2.16677120E+08\n",
            "Hour  10800938300  =  1.08009383E+10\n",
            "Day  228957337705  =  2.28957338E+11\n",
            "Year  68610956750570  =  6.86109568E+13\n",
            "Century  6016277763015247  =  6.01627776E+15\n",
            "Mileniun  5075142713362522112  =  5.07514271E+18\n"
          ]
        }
      ],
      "source": [
        "import math\n",
        "def f(n):\n",
        "  return n*math.log2(n)\n",
        "\n",
        "\n",
        "def find(f,v):\n",
        "  l = 1\n",
        "  r = v\n",
        "  while True:\n",
        "    m = int((l+r)/2)\n",
        "    if ((f(m+1) > v) and (f(m) <= v) ) or (l == m) or  (r == m):\n",
        "      return int(m)   \n",
        "    elif f(m) < v:\n",
        "      l = m\n",
        "    else: \n",
        "      r = m\n",
        "      \n",
        "print(\"Second \", find(f,10**8),\" = \", \"{:.8E}\".format(find(f,10**8)))\n",
        "print(\"Minute \",find(f,60*10**8),\" = \", \"{:.8E}\".format(find(f,60*10**8)))\n",
        "print(\"Hour \",find(f,60*60*10**8),\" = \", \"{:.8E}\".format(find(f,60*60*10**8)))\n",
        "print(\"Day \",find(f,24*60*60*10**8),\" = \", \"{:.8E}\".format(find(f,24*60*60*10**8)))\n",
        "print(\"Year \",find(f,365*24*60*60*10**8),\" = \", \"{:.8E}\".format(find(f,365*24*60*60*10**8)))\n",
        "print(\"Century \",find(f,100*365*24*60*60*10**8),\" = \", \"{:.8E}\".format(find(f,100*365*24*60*60*10**8)))\n",
        "print(\"Mileniun \",find(f,1000*100*365*24*60*60*10**8),\" = \", \"{:.8E}\".format(find(f,1000*100*365*24*60*60*10**8)))"
      ]
    },
    {
      "cell_type": "markdown",
      "metadata": {
        "id": "V5wmzv0yneC7"
      },
      "source": [
        "$\\bf{ Time\\ Complexity\\ n^2}$\n",
        "\n",
        "$Second$\n",
        "$$ n^2 \\times 10^{-8} \\ s\\le 1\\ s$$ \n",
        "$$ n^2 \\le 10^{8} $$ \n",
        "$$ \\sqrt{n^2} \\le \\sqrt{10^{8} }$$ \n",
        "$$ n \\le 10000 $$ \n",
        "\n",
        "$Minute$\n",
        "$$ n^2\\times 10^{-8} \\ s\\le 60\\ s$$ \n",
        "$$ n^2 \\le 60 \\times 10^{8} $$ \n",
        "$$ \\sqrt{n^2} \\le \\sqrt{60 \\times10^{8} }$$ \n",
        "$$ n \\le 77460 $$\n",
        "\n",
        "$Hour$\n",
        "$$ n^2 \\times 10^{-8} \\ s\\le 3600\\ s$$ \n",
        "$$ n^2 \\le 3600 \\times 10^{8} $$ \n",
        "$$ \\sqrt{n^2} \\le \\sqrt{3.6 \\times10^{11}}$$ \n",
        "$$ n \\le 600000 $$\n",
        "\n",
        "$Day$\n",
        "$$ n^2 \\times 10^{-8} \\ s\\le 86400\\ s$$ \n",
        "$$ n^2 \\le 86400 \\times 10^{8} $$ \n",
        "$$ \\sqrt{n^2} \\le \\sqrt{8.64 \\times10^{12}}$$ \n",
        "$$ n \\le 2939388 $$\n",
        "\n",
        "$Year$\n",
        "$$ n^2 \\times 10^{-8} \\ s\\le 31536000\\ s$$ \n",
        "$$ n^2 \\le 31536000 \\times 10^{8} $$ \n",
        "$$ \\sqrt{n^2} \\le \\sqrt{3.1536 \\times10^{15}}$$ \n",
        "$$ n \\le 56156923 $$ \n",
        "\n",
        "$Century$\n",
        "$$ n^2 \\times 10^{-8} \\ s\\le 3153600000\\ s$$ \n",
        "$$ n^2 \\le 3153600000 \\times 10^{8} $$ \n",
        "$$ \\sqrt{n^2} \\le \\sqrt{3.1536 \\times10^{17}}$$ \n",
        "$$ n \\le 561569230 $$ \n",
        "\n",
        "$Mileniun$\n",
        "$$ n^2 \\times 10^{-8} \\ s\\le 3153600000000\\ s$$ \n",
        "$$ n^2 \\le 3153600000000 \\times 10^{8} $$ \n",
        "$$ \\sqrt{n^2} \\le \\sqrt{3.1536 \\times10^{20}}$$ \n",
        "$$ n \\le 17758378304 $$\n"
      ]
    },
    {
      "cell_type": "code",
      "execution_count": null,
      "metadata": {
        "id": "bOFE0JLKneC8",
        "outputId": "586514a9-2a54-4c93-c383-7790e06aa7b7",
        "colab": {
          "base_uri": "https://localhost:8080/"
        }
      },
      "outputs": [
        {
          "output_type": "stream",
          "name": "stdout",
          "text": [
            "Second  10000\n",
            "Minute   77460\n",
            "Hour  600000\n",
            "Day  2939388\n",
            "Year  56156923\n",
            "Century  561569230\n",
            "Mileniun  17758378304\n"
          ]
        }
      ],
      "source": [
        "import math\n",
        "print(\"Second \",round(math.sqrt(10**8)))\n",
        "print(\"Minute \",round(math.sqrt(60*10**8)))\n",
        "print(\"Hour \",round(math.sqrt(60*60*10**8)))\n",
        "print(\"Day \",round(math.sqrt(24*60*60*10**8)))\n",
        "print(\"Year \",round(math.sqrt(365*24*60*60*10**8)))\n",
        "print(\"Century \",round(math.sqrt(100*365*24*60*60*10**8)))\n",
        "print(\"Mileniun \",round(math.sqrt(1000*100*365*24*60*60*10**8)))"
      ]
    },
    {
      "cell_type": "markdown",
      "metadata": {
        "id": "sv6c9ck2neC8"
      },
      "source": [
        "$\\bf{ Time\\ Complexity\\ n^3 }$\n",
        "\n",
        "$Second$\n",
        "$$ n^3 \\times 10^{-8} \\ s\\le 1\\ s$$ \n",
        "$$ n^3 \\le 10^{8} $$ \n",
        "$$ \\sqrt[4]{n^3} \\le \\sqrt[3]{10^{8} }$$ \n",
        "$$ n \\le 464 $$ \n",
        "\n",
        "$Minute$\n",
        "$$ n^3 \\times 10^{-8} \\ s\\le 60\\ s$$ \n",
        "$$ n^3 \\le 60 \\times 10^{8} $$ \n",
        "$$ \\sqrt[3]{n^3} \\le \\sqrt[3]{60 \\times10^{8} }$$ \n",
        "$$ n \\le 1817 $$\n",
        "\n",
        "$Hour$\n",
        "$$ n^3 \\times 10^{-8} \\ s\\le 3600\\ s$$ \n",
        "$$ n^3 \\le 3600 \\times 10^{8} $$ \n",
        "$$ \\sqrt[3]{n^3 } \\le \\sqrt[3]{3.6 \\times10^{11}}$$ \n",
        "$$ n \\le 7114 $$\n",
        "\n",
        "$Day$\n",
        "$$ n^3 \\times 10^{-8} \\ s\\le 86400\\ s$$ \n",
        "$$ n^3 \\le 86400 \\times 10^{8} $$ \n",
        "$$ \\sqrt[3]{n^3} \\le \\sqrt[3]{8.64 \\times10^{12}}$$ \n",
        "$$ n \\le 20520 $$\n",
        "\n",
        "$Year$\n",
        "$$ n^3 \\times 10^{-8} \\ s\\le 31536000\\ s$$ \n",
        "$$ n^3 \\le 31536000 \\times 10^{8} $$ \n",
        "$$ \\sqrt[3]{n^3} \\le \\sqrt[3]{3.1536 \\times10^{15}}$$ \n",
        "$$ n \\le 146646 $$ \n",
        "\n",
        "$Century$\n",
        "$$ n^3 \\times 10^{-8} \\ s\\le 3153600000\\ s$$ \n",
        "$$ n^3 \\le 3153600000 \\times 10^{8} $$ \n",
        "$$ \\sqrt[3]{n^3} \\le \\sqrt[3]{3.1536 \\times10^{17}}$$ \n",
        "$$ n \\le 680668 $$ \n",
        "\n",
        "$Mileniun$\n",
        "$$ n^3 \\times 10^{-8} \\ s\\le 3153600000000\\ s$$ \n",
        "$$ n^3 \\le 3153600000000 \\times 10^{8} $$ \n",
        "$$ \\sqrt[3]{n^3} \\le \\sqrt[3]{3.1536 \\times10^{20}}$$ \n",
        "$$ n \\le 6806683 $$ "
      ]
    },
    {
      "cell_type": "code",
      "execution_count": null,
      "metadata": {
        "id": "9Skm_FgwneC9",
        "outputId": "15713a33-fcfc-4f83-a2c2-cdbee5dcda5f",
        "colab": {
          "base_uri": "https://localhost:8080/"
        }
      },
      "outputs": [
        {
          "output_type": "stream",
          "name": "stdout",
          "text": [
            "Second  464\n",
            "Minute   1817\n",
            "Hour  7114\n",
            "Day  20520\n",
            "Year  146646\n",
            "Century  680668\n",
            "Mileniun  6806683\n"
          ]
        }
      ],
      "source": [
        "import math\n",
        "print(\"Second \",round(math.pow(10**8,1/3)))\n",
        "print(\"Minute \",round(math.pow(60*10**8,1/3)))\n",
        "print(\"Hour \",round(math.pow(60*60*10**8,1/3)))\n",
        "print(\"Day \",round(math.pow(24*60*60*10**8,1/3)))\n",
        "print(\"Year \",round(math.pow(365*24*60*60*10**8,1/3)))\n",
        "print(\"Century \",round(math.pow(100*365*24*60*60*10**8,1/3)))\n",
        "print(\"Mileniun \",round(math.pow(1000*100*365*24*60*60*10**8,1/3)))\n"
      ]
    },
    {
      "cell_type": "markdown",
      "metadata": {
        "id": "dggWVIrrneC9"
      },
      "source": [
        "$\\bf{ Time\\ Complexity\\ n^4 }$\n",
        "\n",
        "$Second$\n",
        "$$ n^4 \\times 10^{-8} \\ s\\le 1\\ s$$ \n",
        "$$ n^4\\le 10^{8} $$ \n",
        "$$ \\sqrt[4]{n^4 } \\le \\sqrt[4]{10^{8} }$$ \n",
        "$$ n \\le 100 $$ \n",
        "\n",
        "$Minute$\n",
        "$$ n^4 \\times 10^{-8} \\ s\\le 60\\ s$$ \n",
        "$$ n^4 \\le 60 \\times 10^{8} $$ \n",
        "$$ \\sqrt[4]{n^4 } \\le \\sqrt[4]{60 \\times10^{8} }$$ \n",
        "$$ n \\le 278 $$\n",
        "\n",
        "$Hour$\n",
        "$$ n^4 \\times 10^{-8} \\ s\\le 3600\\ s$$ \n",
        "$$ n^4 \\le 3600 \\times 10^{8} $$ \n",
        "$$ \\sqrt[4]{n^4} \\le \\sqrt[4]{3.6 \\times10^{11}}$$ \n",
        "$$ n \\le 775 $$\n",
        "\n",
        "$Day$\n",
        "$$ n^4 \\times 10^{-8} \\ s\\le 86400\\ s$$ \n",
        "$$ n^4 \\le 86400 \\times 10^{8} $$ \n",
        "$$ \\sqrt[4]{n^4} \\le \\sqrt[4]{8.64 \\times10^{12}}$$ \n",
        "$$ n \\le 1714 $$\n",
        "\n",
        "$Year$\n",
        "$$ n^4 \\times 10^{-8} \\ s\\le 31536000\\ s$$ \n",
        "$$ n^4 \\le 31536000 \\times 10^{8} $$ \n",
        "$$ \\sqrt[4]{n^4} \\le \\sqrt[4]{3.1536 \\times10^{15}}$$ \n",
        "$$ n \\le 7494 $$ \n",
        "\n",
        "$Century$\n",
        "$$ n^4 \\times 10^{-8} \\ s\\le 3153600000\\ s$$ \n",
        "$$ n^4 \\le 3153600000 \\times 10^{8} $$ \n",
        "$$ \\sqrt[4]{n^4} \\le \\sqrt[4]{3.1536 \\times10^{17}}$$ \n",
        "$$ n \\le 23697 $$ \n",
        "\n",
        "$Mileniun$\n",
        "$$ n^4 \\times 10^{-8} \\ s\\le 3153600000000\\ s$$ \n",
        "$$ n^4 \\le 3153600000000 \\times 10^{8} $$ \n",
        "$$ \\sqrt[4]{n^4} \\le \\sqrt[4]{3.1536 \\times10^{20}}$$ \n",
        "$$ n \\le 133261 $$ "
      ]
    },
    {
      "cell_type": "code",
      "execution_count": null,
      "metadata": {
        "id": "AiT7wzq_neC9",
        "outputId": "6894d64c-f5c5-4c09-d4c1-4f8f4d11998f",
        "colab": {
          "base_uri": "https://localhost:8080/"
        }
      },
      "outputs": [
        {
          "output_type": "stream",
          "name": "stdout",
          "text": [
            "Second  100\n",
            "Minute   278\n",
            "Hour  775\n",
            "Day  1714\n",
            "Year  7494\n",
            "Century  23697\n",
            "Mileniun  133261\n"
          ]
        }
      ],
      "source": [
        "import math\n",
        "print(\"Second \",round(math.pow(10**8,1/4)))\n",
        "print(\"Minute \",round(math.pow(60*10**8,1/4)))\n",
        "print(\"Hour \",round(math.pow(60*60*10**8,1/4)))\n",
        "print(\"Day \",round(math.pow(24*60*60*10**8,1/4)))\n",
        "print(\"Year \",round(math.pow(365*24*60*60*10**8,1/4)))\n",
        "print(\"Century \",round(math.pow(100*365*24*60*60*10**8,1/4)))\n",
        "print(\"Mileniun \",round(math.pow(1000*100*365*24*60*60*10**8,1/4)))"
      ]
    },
    {
      "cell_type": "markdown",
      "metadata": {
        "id": "NSFS2oTBneC9"
      },
      "source": [
        "$\\bf{ Time\\ Complexity\\ 2^n }$\n",
        "\n",
        "$Second$\n",
        "$$ 2^n \\times 10^{-8} \\ s\\le 1\\ s$$ \n",
        "$$ 2^n \\le 10^{8} $$\n",
        "$$ \\lg(2^n) \\le \\lg(10^{8} )$$\n",
        "$$ n \\le \\lg(10^{8} ) = 26 $$\n",
        "\n",
        "$Minute$\n",
        "$$ 2^n \\times 10^{-8} s \\le 60\\ s$$\n",
        "$$ 2^n \\le 60 \\times 10^{8} $$\n",
        "$$ \\lg(2^n) \\le \\lg(60 \\times 10^{8} )$$\n",
        "$$ n \\le \\lg(10^{60 \\times 10^{8} }) = 32 $$\n",
        "\n",
        "\n",
        "$Hour$\n",
        "$$ 2^n \\times 10^{-8} s \\le 3600\\ s$$\n",
        "$$ 2^n \\le 3600 \\times 10^{8} $$\n",
        "$$ \\lg(2^n) \\le \\lg(3.6 \\times 10^{11})$$\n",
        "$$ n \\le \\lg(10^{3.6 \\times 10^{11}}) = 38 $$\n",
        "\n",
        "$Day$\n",
        "$$ 2^n \\times 10^{-8} s \\le 86400\\ s$$\n",
        "$$ 2^n \\le 86400\\times 10^{8} $$\n",
        "$$ \\lg(2^n) \\le  \\lg( 8.64 \\times 10^{12})$$\n",
        "$$ n \\le \\lg(10^{8.64 \\times 10^{12}}) = 42 $$\n",
        "\n",
        "$Year$\n",
        "$$ 2^n \\times 10^{-8} s \\le  31536000\\ s$$\n",
        "$$ 2^n \\le 31536000\\times  10^{8} $$\n",
        "$$ \\lg(2^n) \\le  \\lg( 3.1536 \\times 10^{15})$$\n",
        "$$ n \\le \\lg(10^{3.1536 \\times 10^{15}}) = 51 $$\n",
        "\n",
        "$Century$\n",
        "$$ 2^n \\times 10^{-8} s \\le 3153600000\\ s$$\n",
        "$$ 2^n \\le 3153600000\\times 10^{8} $$\n",
        "$$ \\lg(2^n) \\le \\lg( 3.1536 \\times 10^{17})$$\n",
        "$$ n \\le \\lg(10^{3.1536 \\times 10^{17}}) = 58 $$\n",
        "\n",
        "$Mileniun$\n",
        "$$ 2^n \\times 10^{-8} s \\le 3153600000000\\ s$$\n",
        "$$ 2^n \\le 3153600000000\\times 10^{8} $$\n",
        "$$ \\lg(2^n) \\le  \\lg( 3.1536 \\times 10^{20})$$\n",
        "$$ n \\le \\lg(10^{3.1536 \\times 10^{20}}) = 68 $$"
      ]
    },
    {
      "cell_type": "code",
      "execution_count": null,
      "metadata": {
        "id": "PhUpV0EhneC-",
        "outputId": "e87928e6-10de-4727-cbf0-1b126b51d378",
        "colab": {
          "base_uri": "https://localhost:8080/"
        }
      },
      "outputs": [
        {
          "output_type": "stream",
          "name": "stdout",
          "text": [
            "Second  26\n",
            "Minute   32\n",
            "Hour  38\n",
            "Day  42\n",
            "Year  51\n",
            "Century  58\n",
            "Mileniun  68\n"
          ]
        }
      ],
      "source": [
        "import math\n",
        "print(\"Second \",int(math.log2(10**8)))\n",
        "print(\"Minute \",int(math.log2(60*10**8)))\n",
        "print(\"Hour \",int(math.log2(60*60*10**8)))\n",
        "print(\"Day \",int(math.log2(24*60*60*10**8)))\n",
        "print(\"Year \",int(math.log2(365*24*60*60*10**8)))\n",
        "print(\"Century \",int(math.log2(100*365*24*60*60*10**8)))\n",
        "print(\"Mileniun \",int(math.log2(1000*100*365*24*60*60*10**8)))"
      ]
    },
    {
      "cell_type": "code",
      "execution_count": null,
      "metadata": {
        "id": "m_nZZVotneC-",
        "outputId": "c561fff6-7347-43b1-c0fd-847b143e67ad",
        "colab": {
          "base_uri": "https://localhost:8080/"
        }
      },
      "outputs": [
        {
          "output_type": "stream",
          "name": "stdout",
          "text": [
            "Second  26\n",
            "Minute   32\n",
            "Hour  38\n",
            "Day  42\n",
            "Year  51\n",
            "Century  58\n",
            "Mileniun  68\n"
          ]
        }
      ],
      "source": [
        "import math\n",
        "def f(n):\n",
        "  return 2**n\n",
        "\n",
        "def find(f,v):\n",
        "  l = 1\n",
        "  r = 100\n",
        "  while True:\n",
        "    m = int((l+r)/2)\n",
        "    if ((f(m+1) > v) and (f(m) <= v) ) or (l == m)  or (r== m):\n",
        "      return int(m)\n",
        "    elif f(m) < v:\n",
        "      l = m\n",
        "    else: \n",
        "      r = m\n",
        "\n",
        "print(\"Second \", find(f,10**8))\n",
        "print(\"Minute \",find(f,60*10**8))\n",
        "print(\"Hour \",find(f,60*60*10**8))\n",
        "print(\"Day \",find(f,24*60*60*10**8))\n",
        "print(\"Year \",find(f,365*24*60*60*10**8))\n",
        "print(\"Century \",find(f,100*365*24*60*60*10**8))\n",
        "print(\"Mileniun \",find(f,1000*100*365*24*60*60*10**8))"
      ]
    },
    {
      "cell_type": "markdown",
      "metadata": {
        "id": "cHVK1i2uneC-"
      },
      "source": [
        "$\\bf{ Time\\ Complexity\\ n! }$\n",
        "\n",
        "$Second$\n",
        "$$ n! \\times 10^{-8} \\ s\\le 1\\ s$$\n",
        "$$ n! \\le 10^{8} $$\n",
        "$$ n \\le 11 $$\n",
        "\n",
        "\n",
        "$Minute$\n",
        "$$ n! \\times 10^{-8} \\ s\\le 60\\ s$$\n",
        "$$ n! \\le 60 \\times 10^{8} $$\n",
        "$$ n \\le 12 $$\n",
        "\n",
        "$Hour$\n",
        "$$ n! \\times 10^{-8} \\ s\\le 3600\\ s$$\n",
        "$$ n! \\le 3600 \\times 10^{8} = 3.6 \\times 10^{11}$$\n",
        "$$ n \\le 14 $$\n",
        "\n",
        "$Day$\n",
        "$$ n! \\times 10^{-8} \\ s\\le 86400\\ s$$\n",
        "$$ n! \\le 86400 \\times 10^{8} = 8.64 \\times 10^{12}$$\n",
        "$$ n \\le 15 $$\n",
        "\n",
        "$Year$\n",
        "$$ n! \\times 10^{-8} \\ s\\le 31536000\\ s$$\n",
        "$$ n! \\le 31536000 \\times 10^{8}   = 3.153 \\times 10^{15}$$\n",
        "$$ n \\le 17 $$\n",
        "\n",
        "$Century$\n",
        "$$ n! \\times 10^{-8} \\ s\\le 3153600000\\ s$$\n",
        "$$ n! \\le 3153600000 \\times 10^{8} = 3.153 \\times 10^{17}$$\n",
        "$$ n \\le 19 $$\n",
        "\n",
        "$Mileniun$\n",
        "$$ n! \\times 10^{-8} \\ s\\le 3153600000000\\ s$$\n",
        "$$ n! \\le 3153600000000 \\times 10^{8} = 3.153 \\times 10^{20}$$\n",
        "$$ n \\le 21 $$"
      ]
    },
    {
      "cell_type": "code",
      "execution_count": null,
      "metadata": {
        "id": "hjmaJbsYneC_",
        "outputId": "9b4b1dfa-525b-4ade-9b5d-05a318efabeb",
        "colab": {
          "base_uri": "https://localhost:8080/"
        }
      },
      "outputs": [
        {
          "output_type": "stream",
          "name": "stdout",
          "text": [
            "Second  11\n",
            "Minute   12\n",
            "Hour  14\n",
            "Day  15\n",
            "Year  17\n",
            "Century  19\n",
            "Mileniun  21\n"
          ]
        }
      ],
      "source": [
        "import math\n",
        "def f(n):\n",
        "  return math.factorial(n)\n",
        "\n",
        "def find(f,v):\n",
        "  l = 1\n",
        "  r = 100\n",
        "  while True:\n",
        "    m = int((l+r)/2)\n",
        "    if ((f(m+1) > v) and (f(m) <= v) ) or (l == m) or (r== m):\n",
        "      return int(m)\n",
        "    elif f(m) < v:\n",
        "      l = m\n",
        "    else: \n",
        "      r = m\n",
        "\n",
        "print(\"Second \", find(f,10**8))\n",
        "print(\"Minute \",find(f,60*10**8))\n",
        "print(\"Hour \",find(f,60*60*10**8))\n",
        "print(\"Day \",find(f,24*60*60*10**8))\n",
        "print(\"Year \",find(f,365*24*60*60*10**8))\n",
        "print(\"Century \",find(f,100*365*24*60*60*10**8))\n",
        "print(\"Mileniun \",find(f,1000*100*365*24*60*60*10**8))"
      ]
    },
    {
      "cell_type": "markdown",
      "metadata": {
        "id": "LHuUKL1wneC_"
      },
      "source": [
        "$\\bf{ Time\\ Complexity\\ n^n }$\n",
        "\n",
        "$Second$\n",
        "$$ n^n \\times 10^{-8} \\ s\\le 1\\ s$$\n",
        "$$ n^n \\le 10^{8} $$\n",
        "$$ n \\le 8 $$ \n",
        "\n",
        "$Minute$\n",
        "$$ n^n \\times 10^{-8} \\ s\\le 60\\ s$$\n",
        "$$ n^n \\le 60 \\times 10^{8} $$\n",
        "$$ n \\le 9 $$\n",
        "\n",
        "$Hour$\n",
        "$$ n^n \\times 10^{-8} \\ s\\le 3600\\ s$$\n",
        "$$ n^n \\le 3600 \\times 10^{8} = 3.6 \\times 10^{11}$$\n",
        "$$ n \\le 11 $$\n",
        "\n",
        "$Day$\n",
        "$$ n^n \\times 10^{-8} \\ s\\le 86400\\ s$$\n",
        "$$ n^n \\le 86400 \\times 10^{8} = 8.64 \\times 10^{12}$$\n",
        "$$ n \\le 11 $$\n",
        "\n",
        "$Year$\n",
        "$$ n^n \\times 10^{-8} \\ s\\le 31536000\\ s$$\n",
        "$$ n^n \\le 31536000 \\times 10^{8} = 3.153 \\times 10^{15}$$\n",
        "$$ n \\le 13 $$\n",
        "\n",
        "$Century$\n",
        "$$ n^n \\times 10^{-8} \\ s\\le 3153600000\\ s$$\n",
        "$$ n^n \\le 3153600000 \\times 10^{8} = 3.153 \\times 10^{17}$$\n",
        "$$ n \\le 14 $$ \n",
        "\n",
        "$Mileniun$\n",
        "$$ n^n \\times 10^{-8} \\ s\\le 3153600000000\\ s$$\n",
        "$$ n^n \\le 3153600000000 \\times 10^{8} = 3.153 \\times 10^{20}$$\n",
        "$$ n \\le 16 $$\n"
      ]
    },
    {
      "cell_type": "code",
      "execution_count": null,
      "metadata": {
        "id": "93xATWfdneC_",
        "outputId": "d10355b1-b525-4dab-91ab-6b5908ae33b0",
        "colab": {
          "base_uri": "https://localhost:8080/"
        }
      },
      "outputs": [
        {
          "output_type": "stream",
          "name": "stdout",
          "text": [
            "Second  8\n",
            "Minute   9\n",
            "Hour  11\n",
            "Day  11\n",
            "Year  13\n",
            "Century  14\n",
            "Mileniun  16\n"
          ]
        }
      ],
      "source": [
        "import math\n",
        "def f(n):\n",
        "  return n**n\n",
        "\n",
        "def find(f,v):\n",
        "  l = 1\n",
        "  r = 100\n",
        "  while True:\n",
        "    m = int((l+r)/2)\n",
        "    if ((f(m+1) > v) and (f(m) <= v) ) or (l == m) or (r== m):\n",
        "      return int(m)\n",
        "    elif f(m) < v:\n",
        "      l = m\n",
        "    else: \n",
        "      r = m\n",
        "\n",
        "print(\"Second \", find(f,10**8))\n",
        "print(\"Minute \",find(f,60*10**8))\n",
        "print(\"Hour \",find(f,60*60*10**8))\n",
        "print(\"Day \",find(f,24*60*60*10**8))\n",
        "print(\"Year \",find(f,365*24*60*60*10**8))\n",
        "print(\"Century \",find(f,100*365*24*60*60*10**8))\n",
        "print(\"Mileniun \",find(f,1000*100*365*24*60*60*10**8))"
      ]
    }
  ]
}